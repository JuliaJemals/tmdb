{
 "cells": [
  {
   "cell_type": "markdown",
   "metadata": {},
   "source": [
    "# Predicting movie revenue\n",
    "\n",
    "We are using data from the The Movie Data Base on 7398 movies and a variety of metadata, including cast, crew, plot keywords, budget, posters, release dates, languages, production companies, and countries. We will use this data to predict worldwide revenue for 4398 of them."
   ]
  },
  {
   "cell_type": "code",
   "execution_count": 23,
   "metadata": {},
   "outputs": [],
   "source": [
    "import pandas as pd\n",
    "import numpy as np\n",
    "import collections\n",
    "import re\n",
    "from functools import reduce\n",
    "from datetime import datetime\n",
    "import matplotlib.pyplot as plt\n",
    "from scipy import stats\n",
    "from scipy.stats import pearsonr\n",
    "import seaborn as sb\n",
    "from ast import literal_eval\n",
    "from wordcloud import WordCloud\n",
    "\n",
    "%matplotlib inline"
   ]
  },
  {
   "cell_type": "markdown",
   "metadata": {},
   "source": [
    "Since the data in some of the variables, e.g. genres, Keywords, cast, were originally in json format but due to the formatting of the csv file were imported as strings into the dataframe, we need to turn the strings back into lists and dictionaries."
   ]
  },
  {
   "cell_type": "markdown",
   "metadata": {},
   "source": [
    "## Reading in data and formatting it"
   ]
  },
  {
   "cell_type": "code",
   "execution_count": 56,
   "metadata": {
    "scrolled": true
   },
   "outputs": [
    {
     "data": {
      "text/html": [
       "<div>\n",
       "<style scoped>\n",
       "    .dataframe tbody tr th:only-of-type {\n",
       "        vertical-align: middle;\n",
       "    }\n",
       "\n",
       "    .dataframe tbody tr th {\n",
       "        vertical-align: top;\n",
       "    }\n",
       "\n",
       "    .dataframe thead th {\n",
       "        text-align: right;\n",
       "    }\n",
       "</style>\n",
       "<table border=\"1\" class=\"dataframe\">\n",
       "  <thead>\n",
       "    <tr style=\"text-align: right;\">\n",
       "      <th></th>\n",
       "      <th>id</th>\n",
       "      <th>belongs_to_collection</th>\n",
       "      <th>budget</th>\n",
       "      <th>genres</th>\n",
       "      <th>homepage</th>\n",
       "      <th>imdb_id</th>\n",
       "      <th>original_language</th>\n",
       "      <th>original_title</th>\n",
       "      <th>overview</th>\n",
       "      <th>popularity</th>\n",
       "      <th>...</th>\n",
       "      <th>release_date</th>\n",
       "      <th>runtime</th>\n",
       "      <th>spoken_languages</th>\n",
       "      <th>status</th>\n",
       "      <th>tagline</th>\n",
       "      <th>title</th>\n",
       "      <th>Keywords</th>\n",
       "      <th>cast</th>\n",
       "      <th>crew</th>\n",
       "      <th>revenue</th>\n",
       "    </tr>\n",
       "  </thead>\n",
       "  <tbody>\n",
       "    <tr>\n",
       "      <th>0</th>\n",
       "      <td>1</td>\n",
       "      <td>[{'id': 313576, 'name': 'Hot Tub Time Machine ...</td>\n",
       "      <td>14000000</td>\n",
       "      <td>[{'id': 35, 'name': 'Comedy'}]</td>\n",
       "      <td>NaN</td>\n",
       "      <td>tt2637294</td>\n",
       "      <td>en</td>\n",
       "      <td>Hot Tub Time Machine 2</td>\n",
       "      <td>When Lou, who has become the \"father of the In...</td>\n",
       "      <td>6.575393</td>\n",
       "      <td>...</td>\n",
       "      <td>2/20/15</td>\n",
       "      <td>93.0</td>\n",
       "      <td>[{'iso_639_1': 'en', 'name': 'English'}]</td>\n",
       "      <td>Released</td>\n",
       "      <td>The Laws of Space and Time are About to be Vio...</td>\n",
       "      <td>Hot Tub Time Machine 2</td>\n",
       "      <td>[{'id': 4379, 'name': 'time travel'}, {'id': 9...</td>\n",
       "      <td>[{'cast_id': 4, 'character': 'Lou', 'credit_id...</td>\n",
       "      <td>[{'credit_id': '59ac067c92514107af02c8c8', 'de...</td>\n",
       "      <td>12314651</td>\n",
       "    </tr>\n",
       "    <tr>\n",
       "      <th>1</th>\n",
       "      <td>2</td>\n",
       "      <td>[{'id': 107674, 'name': 'The Princess Diaries ...</td>\n",
       "      <td>40000000</td>\n",
       "      <td>[{'id': 35, 'name': 'Comedy'}, {'id': 18, 'nam...</td>\n",
       "      <td>NaN</td>\n",
       "      <td>tt0368933</td>\n",
       "      <td>en</td>\n",
       "      <td>The Princess Diaries 2: Royal Engagement</td>\n",
       "      <td>Mia Thermopolis is now a college graduate and ...</td>\n",
       "      <td>8.248895</td>\n",
       "      <td>...</td>\n",
       "      <td>8/6/04</td>\n",
       "      <td>113.0</td>\n",
       "      <td>[{'iso_639_1': 'en', 'name': 'English'}]</td>\n",
       "      <td>Released</td>\n",
       "      <td>It can take a lifetime to find true love; she'...</td>\n",
       "      <td>The Princess Diaries 2: Royal Engagement</td>\n",
       "      <td>[{'id': 2505, 'name': 'coronation'}, {'id': 42...</td>\n",
       "      <td>[{'cast_id': 1, 'character': 'Mia Thermopolis'...</td>\n",
       "      <td>[{'credit_id': '52fe43fe9251416c7502563d', 'de...</td>\n",
       "      <td>95149435</td>\n",
       "    </tr>\n",
       "    <tr>\n",
       "      <th>2</th>\n",
       "      <td>3</td>\n",
       "      <td>{}</td>\n",
       "      <td>3300000</td>\n",
       "      <td>[{'id': 18, 'name': 'Drama'}]</td>\n",
       "      <td>http://sonyclassics.com/whiplash/</td>\n",
       "      <td>tt2582802</td>\n",
       "      <td>en</td>\n",
       "      <td>Whiplash</td>\n",
       "      <td>Under the direction of a ruthless instructor, ...</td>\n",
       "      <td>64.299990</td>\n",
       "      <td>...</td>\n",
       "      <td>10/10/14</td>\n",
       "      <td>105.0</td>\n",
       "      <td>[{'iso_639_1': 'en', 'name': 'English'}]</td>\n",
       "      <td>Released</td>\n",
       "      <td>The road to greatness can take you to the edge.</td>\n",
       "      <td>Whiplash</td>\n",
       "      <td>[{'id': 1416, 'name': 'jazz'}, {'id': 1523, 'n...</td>\n",
       "      <td>[{'cast_id': 5, 'character': 'Andrew Neimann',...</td>\n",
       "      <td>[{'credit_id': '54d5356ec3a3683ba0000039', 'de...</td>\n",
       "      <td>13092000</td>\n",
       "    </tr>\n",
       "    <tr>\n",
       "      <th>3</th>\n",
       "      <td>4</td>\n",
       "      <td>{}</td>\n",
       "      <td>1200000</td>\n",
       "      <td>[{'id': 53, 'name': 'Thriller'}, {'id': 18, 'n...</td>\n",
       "      <td>http://kahaanithefilm.com/</td>\n",
       "      <td>tt1821480</td>\n",
       "      <td>hi</td>\n",
       "      <td>Kahaani</td>\n",
       "      <td>Vidya Bagchi (Vidya Balan) arrives in Kolkata ...</td>\n",
       "      <td>3.174936</td>\n",
       "      <td>...</td>\n",
       "      <td>3/9/12</td>\n",
       "      <td>122.0</td>\n",
       "      <td>[{'iso_639_1': 'en', 'name': 'English'}, {'iso...</td>\n",
       "      <td>Released</td>\n",
       "      <td>NaN</td>\n",
       "      <td>Kahaani</td>\n",
       "      <td>[{'id': 10092, 'name': 'mystery'}, {'id': 1054...</td>\n",
       "      <td>[{'cast_id': 1, 'character': 'Vidya Bagchi', '...</td>\n",
       "      <td>[{'credit_id': '52fe48779251416c9108d6eb', 'de...</td>\n",
       "      <td>16000000</td>\n",
       "    </tr>\n",
       "    <tr>\n",
       "      <th>4</th>\n",
       "      <td>5</td>\n",
       "      <td>{}</td>\n",
       "      <td>0</td>\n",
       "      <td>[{'id': 28, 'name': 'Action'}, {'id': 53, 'nam...</td>\n",
       "      <td>NaN</td>\n",
       "      <td>tt1380152</td>\n",
       "      <td>ko</td>\n",
       "      <td>마린보이</td>\n",
       "      <td>Marine Boy is the story of a former national s...</td>\n",
       "      <td>1.148070</td>\n",
       "      <td>...</td>\n",
       "      <td>2/5/09</td>\n",
       "      <td>118.0</td>\n",
       "      <td>[{'iso_639_1': 'ko', 'name': '한국어/조선말'}]</td>\n",
       "      <td>Released</td>\n",
       "      <td>NaN</td>\n",
       "      <td>Marine Boy</td>\n",
       "      <td>{}</td>\n",
       "      <td>[{'cast_id': 3, 'character': 'Chun-soo', 'cred...</td>\n",
       "      <td>[{'credit_id': '52fe464b9251416c75073b43', 'de...</td>\n",
       "      <td>3923970</td>\n",
       "    </tr>\n",
       "  </tbody>\n",
       "</table>\n",
       "<p>5 rows × 23 columns</p>\n",
       "</div>"
      ],
      "text/plain": [
       "   id                              belongs_to_collection    budget  \\\n",
       "0   1  [{'id': 313576, 'name': 'Hot Tub Time Machine ...  14000000   \n",
       "1   2  [{'id': 107674, 'name': 'The Princess Diaries ...  40000000   \n",
       "2   3                                                 {}   3300000   \n",
       "3   4                                                 {}   1200000   \n",
       "4   5                                                 {}         0   \n",
       "\n",
       "                                              genres  \\\n",
       "0                     [{'id': 35, 'name': 'Comedy'}]   \n",
       "1  [{'id': 35, 'name': 'Comedy'}, {'id': 18, 'nam...   \n",
       "2                      [{'id': 18, 'name': 'Drama'}]   \n",
       "3  [{'id': 53, 'name': 'Thriller'}, {'id': 18, 'n...   \n",
       "4  [{'id': 28, 'name': 'Action'}, {'id': 53, 'nam...   \n",
       "\n",
       "                            homepage    imdb_id original_language  \\\n",
       "0                                NaN  tt2637294                en   \n",
       "1                                NaN  tt0368933                en   \n",
       "2  http://sonyclassics.com/whiplash/  tt2582802                en   \n",
       "3         http://kahaanithefilm.com/  tt1821480                hi   \n",
       "4                                NaN  tt1380152                ko   \n",
       "\n",
       "                             original_title  \\\n",
       "0                    Hot Tub Time Machine 2   \n",
       "1  The Princess Diaries 2: Royal Engagement   \n",
       "2                                  Whiplash   \n",
       "3                                   Kahaani   \n",
       "4                                      마린보이   \n",
       "\n",
       "                                            overview  popularity    ...     \\\n",
       "0  When Lou, who has become the \"father of the In...    6.575393    ...      \n",
       "1  Mia Thermopolis is now a college graduate and ...    8.248895    ...      \n",
       "2  Under the direction of a ruthless instructor, ...   64.299990    ...      \n",
       "3  Vidya Bagchi (Vidya Balan) arrives in Kolkata ...    3.174936    ...      \n",
       "4  Marine Boy is the story of a former national s...    1.148070    ...      \n",
       "\n",
       "  release_date runtime                                   spoken_languages  \\\n",
       "0      2/20/15    93.0           [{'iso_639_1': 'en', 'name': 'English'}]   \n",
       "1       8/6/04   113.0           [{'iso_639_1': 'en', 'name': 'English'}]   \n",
       "2     10/10/14   105.0           [{'iso_639_1': 'en', 'name': 'English'}]   \n",
       "3       3/9/12   122.0  [{'iso_639_1': 'en', 'name': 'English'}, {'iso...   \n",
       "4       2/5/09   118.0           [{'iso_639_1': 'ko', 'name': '한국어/조선말'}]   \n",
       "\n",
       "     status                                            tagline  \\\n",
       "0  Released  The Laws of Space and Time are About to be Vio...   \n",
       "1  Released  It can take a lifetime to find true love; she'...   \n",
       "2  Released    The road to greatness can take you to the edge.   \n",
       "3  Released                                                NaN   \n",
       "4  Released                                                NaN   \n",
       "\n",
       "                                      title  \\\n",
       "0                    Hot Tub Time Machine 2   \n",
       "1  The Princess Diaries 2: Royal Engagement   \n",
       "2                                  Whiplash   \n",
       "3                                   Kahaani   \n",
       "4                                Marine Boy   \n",
       "\n",
       "                                            Keywords  \\\n",
       "0  [{'id': 4379, 'name': 'time travel'}, {'id': 9...   \n",
       "1  [{'id': 2505, 'name': 'coronation'}, {'id': 42...   \n",
       "2  [{'id': 1416, 'name': 'jazz'}, {'id': 1523, 'n...   \n",
       "3  [{'id': 10092, 'name': 'mystery'}, {'id': 1054...   \n",
       "4                                                 {}   \n",
       "\n",
       "                                                cast  \\\n",
       "0  [{'cast_id': 4, 'character': 'Lou', 'credit_id...   \n",
       "1  [{'cast_id': 1, 'character': 'Mia Thermopolis'...   \n",
       "2  [{'cast_id': 5, 'character': 'Andrew Neimann',...   \n",
       "3  [{'cast_id': 1, 'character': 'Vidya Bagchi', '...   \n",
       "4  [{'cast_id': 3, 'character': 'Chun-soo', 'cred...   \n",
       "\n",
       "                                                crew   revenue  \n",
       "0  [{'credit_id': '59ac067c92514107af02c8c8', 'de...  12314651  \n",
       "1  [{'credit_id': '52fe43fe9251416c7502563d', 'de...  95149435  \n",
       "2  [{'credit_id': '54d5356ec3a3683ba0000039', 'de...  13092000  \n",
       "3  [{'credit_id': '52fe48779251416c9108d6eb', 'de...  16000000  \n",
       "4  [{'credit_id': '52fe464b9251416c75073b43', 'de...   3923970  \n",
       "\n",
       "[5 rows x 23 columns]"
      ]
     },
     "execution_count": 56,
     "metadata": {},
     "output_type": "execute_result"
    }
   ],
   "source": [
    " # read in data\n",
    "train = pd.read_csv(\"train.csv\", delimiter=',')\n",
    "test = pd.read_csv(\"test.csv\", delimiter=',')\n",
    "\n",
    "na_headers = ['belongs_to_collection', 'genres', 'spoken_languages', 'production_companies', 'production_countries', 'Keywords', 'cast', 'crew']\n",
    "\n",
    "def text_to_dict(data, cols):\n",
    "    for column in cols:\n",
    "        data[column] = data[column].apply(lambda x: {} if pd.isna(x) else literal_eval(x))\n",
    "    return data\n",
    "\n",
    "train = text_to_dict(train, na_headers)\n",
    "test = text_to_dict(test, na_headers)\n",
    "\n",
    "train.head()"
   ]
  },
  {
   "cell_type": "markdown",
   "metadata": {},
   "source": [
    "I will start by first breaking up the dictionary variables and storing each unique result in a list corresponding to the columns."
   ]
  },
  {
   "cell_type": "code",
   "execution_count": 57,
   "metadata": {},
   "outputs": [],
   "source": [
    "# breakup the dictionary variables\n",
    "def list_breakdown(data, header):\n",
    "    all_list = {}\n",
    "    all_list = {i['name'] for row in data[header] for i in row if row != {}}\n",
    "    \n",
    "    return sorted(all_list)\n",
    "                       "
   ]
  },
  {
   "cell_type": "code",
   "execution_count": 58,
   "metadata": {},
   "outputs": [
    {
     "name": "stdout",
     "output_type": "stream",
     "text": [
      "['Action', 'Adventure', 'Animation', 'Comedy', 'Crime', 'Documentary', 'Drama', 'Family', 'Fantasy', 'Foreign', 'History', 'Horror', 'Music', 'Mystery', 'Romance', 'Science Fiction', 'TV Movie', 'Thriller', 'War', 'Western']\n",
      "20\n"
     ]
    }
   ],
   "source": [
    "# create lists with all possible data points for the 8 dictionary variables\n",
    "all_keywords = list_breakdown(train, 'Keywords')\n",
    "all_cast = list_breakdown(train, 'cast')\n",
    "all_crew = list_breakdown(train, 'crew')\n",
    "all_lang = list_breakdown(train, 'spoken_languages')\n",
    "all_product_comp = list_breakdown(train, 'production_companies')\n",
    "all_product_count = list_breakdown(train, 'production_countries')\n",
    "all_genres = list_breakdown(train, 'genres')\n",
    "all_collections = list_breakdown(train, 'belongs_to_collection')\n",
    "\n",
    "print(all_genres)\n",
    "print(len(all_genres))\n"
   ]
  },
  {
   "cell_type": "code",
   "execution_count": 59,
   "metadata": {},
   "outputs": [],
   "source": [
    "# replace dictionaries by lists with only names for all variables in na_headers\n",
    "na_headers = pd.Series(na_headers)\n",
    "\n",
    "def formatting_dict_vars(dataset, headers):\n",
    "    '''\n",
    "    input is a dataframe and a list of column headers whose contents need\n",
    "    to be transformed\n",
    "    '''\n",
    "    # create temporary columns\n",
    "    temp_names = list(map(lambda x: x+'_temp', na_headers))\n",
    "    for header in temp_names:\n",
    "        train[header] = 0\n",
    "    \n",
    "    # transform dicts into lists containing only the names\n",
    "    j = 0\n",
    "    for org_header in headers:\n",
    "        train[temp_names[j]] = train[org_header].apply(lambda x: ','.join([i['name'] for i in x]) if x != {} else '')\n",
    "        j += 1\n",
    "        \n",
    "    return dataset\n",
    "\n",
    "train = formatting_dict_vars(train, na_headers)\n"
   ]
  },
  {
   "cell_type": "markdown",
   "metadata": {},
   "source": [
    "## Data exploration"
   ]
  },
  {
   "cell_type": "code",
   "execution_count": 60,
   "metadata": {},
   "outputs": [
    {
     "name": "stdout",
     "output_type": "stream",
     "text": [
      "(3000, 31)\n",
      "(4398, 22)\n"
     ]
    }
   ],
   "source": [
    "# how many columns and rows do both files have\n",
    "print(train.shape)\n",
    "print(test.shape)\n"
   ]
  },
  {
   "cell_type": "code",
   "execution_count": 61,
   "metadata": {},
   "outputs": [],
   "source": [
    "# count the number of possible returns per variable\n",
    "def total_count(data, header, topk=30):\n",
    "    '''\n",
    "    this function takes in a dataframe, a column name and the number\n",
    "    of top results that should be return; per default this is 30\n",
    "    '''\n",
    "    every_mention = list(i['name'] for row in data[header] for i in row if row != {})\n",
    "    total = collections.Counter(every_mention).most_common(topk)\n",
    "    return total"
   ]
  },
  {
   "cell_type": "markdown",
   "metadata": {},
   "source": [
    "### Categorical variables in dictionary format\n",
    "\n",
    "I will initially explore each variable individually before transforming and using it for my prediction algorithm. I will start with the variables in dictionary format.\n",
    "\n",
    "#### genres"
   ]
  },
  {
   "cell_type": "code",
   "execution_count": 62,
   "metadata": {},
   "outputs": [],
   "source": [
    "def analysis(data, header, topk=30):\n",
    "    '''\n",
    "    This function takes in a dataset, a column name and \n",
    "    a number of top results to be shown, where the default \n",
    "    will be 30. It will print out the first 5 values of the \n",
    "    column, a count of all occurences of values and the \n",
    "    number of blank rows.\n",
    "    '''\n",
    "    for line, value in enumerate(data[header][:5]):\n",
    "        print (value)\n",
    "\n",
    "    total = total_count(data, header, topk)\n",
    "    print('\\n', total)\n",
    "\n",
    "    x = 0\n",
    "    for row in data[header]:\n",
    "        if row == {}:\n",
    "            x += 1\n",
    "    print('\\n', f'{x} data entries without {header}.')\n"
   ]
  },
  {
   "cell_type": "code",
   "execution_count": 63,
   "metadata": {},
   "outputs": [
    {
     "name": "stdout",
     "output_type": "stream",
     "text": [
      "[{'id': 35, 'name': 'Comedy'}]\n",
      "[{'id': 35, 'name': 'Comedy'}, {'id': 18, 'name': 'Drama'}, {'id': 10751, 'name': 'Family'}, {'id': 10749, 'name': 'Romance'}]\n",
      "[{'id': 18, 'name': 'Drama'}]\n",
      "[{'id': 53, 'name': 'Thriller'}, {'id': 18, 'name': 'Drama'}]\n",
      "[{'id': 28, 'name': 'Action'}, {'id': 53, 'name': 'Thriller'}]\n",
      "\n",
      " [('Drama', 1531), ('Comedy', 1028), ('Thriller', 789), ('Action', 741), ('Romance', 571), ('Crime', 469), ('Adventure', 439), ('Horror', 301), ('Science Fiction', 290), ('Family', 260), ('Fantasy', 232), ('Mystery', 225), ('Animation', 141), ('History', 132), ('Music', 100), ('War', 100), ('Documentary', 87), ('Western', 43), ('Foreign', 31), ('TV Movie', 1)]\n",
      "\n",
      " 7 data entries without genres.\n"
     ]
    }
   ],
   "source": [
    "# Exploration of genres\n",
    "analysis(train, 'genres', 25)"
   ]
  },
  {
   "cell_type": "markdown",
   "metadata": {},
   "source": [
    "Every movie except for 7 has information on genre. I will one-hot encode the data now in order to get a better idea of the predictiveness of the individual genres for the revenue."
   ]
  },
  {
   "cell_type": "code",
   "execution_count": 64,
   "metadata": {},
   "outputs": [
    {
     "data": {
      "text/html": [
       "<div>\n",
       "<style scoped>\n",
       "    .dataframe tbody tr th:only-of-type {\n",
       "        vertical-align: middle;\n",
       "    }\n",
       "\n",
       "    .dataframe tbody tr th {\n",
       "        vertical-align: top;\n",
       "    }\n",
       "\n",
       "    .dataframe thead th {\n",
       "        text-align: right;\n",
       "    }\n",
       "</style>\n",
       "<table border=\"1\" class=\"dataframe\">\n",
       "  <thead>\n",
       "    <tr style=\"text-align: right;\">\n",
       "      <th></th>\n",
       "      <th>id</th>\n",
       "      <th>belongs_to_collection</th>\n",
       "      <th>budget</th>\n",
       "      <th>genres</th>\n",
       "      <th>homepage</th>\n",
       "      <th>imdb_id</th>\n",
       "      <th>original_language</th>\n",
       "      <th>original_title</th>\n",
       "      <th>overview</th>\n",
       "      <th>popularity</th>\n",
       "      <th>...</th>\n",
       "      <th>History</th>\n",
       "      <th>Horror</th>\n",
       "      <th>Music</th>\n",
       "      <th>Mystery</th>\n",
       "      <th>Romance</th>\n",
       "      <th>Science Fiction</th>\n",
       "      <th>TV Movie</th>\n",
       "      <th>Thriller</th>\n",
       "      <th>War</th>\n",
       "      <th>Western</th>\n",
       "    </tr>\n",
       "  </thead>\n",
       "  <tbody>\n",
       "    <tr>\n",
       "      <th>0</th>\n",
       "      <td>1</td>\n",
       "      <td>[{'id': 313576, 'name': 'Hot Tub Time Machine ...</td>\n",
       "      <td>14000000</td>\n",
       "      <td>[{'id': 35, 'name': 'Comedy'}]</td>\n",
       "      <td>NaN</td>\n",
       "      <td>tt2637294</td>\n",
       "      <td>en</td>\n",
       "      <td>Hot Tub Time Machine 2</td>\n",
       "      <td>When Lou, who has become the \"father of the In...</td>\n",
       "      <td>6.575393</td>\n",
       "      <td>...</td>\n",
       "      <td>0</td>\n",
       "      <td>0</td>\n",
       "      <td>0</td>\n",
       "      <td>0</td>\n",
       "      <td>0</td>\n",
       "      <td>0</td>\n",
       "      <td>0</td>\n",
       "      <td>0</td>\n",
       "      <td>0</td>\n",
       "      <td>0</td>\n",
       "    </tr>\n",
       "    <tr>\n",
       "      <th>1</th>\n",
       "      <td>2</td>\n",
       "      <td>[{'id': 107674, 'name': 'The Princess Diaries ...</td>\n",
       "      <td>40000000</td>\n",
       "      <td>[{'id': 35, 'name': 'Comedy'}, {'id': 18, 'nam...</td>\n",
       "      <td>NaN</td>\n",
       "      <td>tt0368933</td>\n",
       "      <td>en</td>\n",
       "      <td>The Princess Diaries 2: Royal Engagement</td>\n",
       "      <td>Mia Thermopolis is now a college graduate and ...</td>\n",
       "      <td>8.248895</td>\n",
       "      <td>...</td>\n",
       "      <td>0</td>\n",
       "      <td>0</td>\n",
       "      <td>0</td>\n",
       "      <td>0</td>\n",
       "      <td>1</td>\n",
       "      <td>0</td>\n",
       "      <td>0</td>\n",
       "      <td>0</td>\n",
       "      <td>0</td>\n",
       "      <td>0</td>\n",
       "    </tr>\n",
       "    <tr>\n",
       "      <th>2</th>\n",
       "      <td>3</td>\n",
       "      <td>{}</td>\n",
       "      <td>3300000</td>\n",
       "      <td>[{'id': 18, 'name': 'Drama'}]</td>\n",
       "      <td>http://sonyclassics.com/whiplash/</td>\n",
       "      <td>tt2582802</td>\n",
       "      <td>en</td>\n",
       "      <td>Whiplash</td>\n",
       "      <td>Under the direction of a ruthless instructor, ...</td>\n",
       "      <td>64.299990</td>\n",
       "      <td>...</td>\n",
       "      <td>0</td>\n",
       "      <td>0</td>\n",
       "      <td>0</td>\n",
       "      <td>0</td>\n",
       "      <td>0</td>\n",
       "      <td>0</td>\n",
       "      <td>0</td>\n",
       "      <td>0</td>\n",
       "      <td>0</td>\n",
       "      <td>0</td>\n",
       "    </tr>\n",
       "    <tr>\n",
       "      <th>3</th>\n",
       "      <td>4</td>\n",
       "      <td>{}</td>\n",
       "      <td>1200000</td>\n",
       "      <td>[{'id': 53, 'name': 'Thriller'}, {'id': 18, 'n...</td>\n",
       "      <td>http://kahaanithefilm.com/</td>\n",
       "      <td>tt1821480</td>\n",
       "      <td>hi</td>\n",
       "      <td>Kahaani</td>\n",
       "      <td>Vidya Bagchi (Vidya Balan) arrives in Kolkata ...</td>\n",
       "      <td>3.174936</td>\n",
       "      <td>...</td>\n",
       "      <td>0</td>\n",
       "      <td>0</td>\n",
       "      <td>0</td>\n",
       "      <td>0</td>\n",
       "      <td>0</td>\n",
       "      <td>0</td>\n",
       "      <td>0</td>\n",
       "      <td>1</td>\n",
       "      <td>0</td>\n",
       "      <td>0</td>\n",
       "    </tr>\n",
       "    <tr>\n",
       "      <th>4</th>\n",
       "      <td>5</td>\n",
       "      <td>{}</td>\n",
       "      <td>0</td>\n",
       "      <td>[{'id': 28, 'name': 'Action'}, {'id': 53, 'nam...</td>\n",
       "      <td>NaN</td>\n",
       "      <td>tt1380152</td>\n",
       "      <td>ko</td>\n",
       "      <td>마린보이</td>\n",
       "      <td>Marine Boy is the story of a former national s...</td>\n",
       "      <td>1.148070</td>\n",
       "      <td>...</td>\n",
       "      <td>0</td>\n",
       "      <td>0</td>\n",
       "      <td>0</td>\n",
       "      <td>0</td>\n",
       "      <td>0</td>\n",
       "      <td>0</td>\n",
       "      <td>0</td>\n",
       "      <td>1</td>\n",
       "      <td>0</td>\n",
       "      <td>0</td>\n",
       "    </tr>\n",
       "  </tbody>\n",
       "</table>\n",
       "<p>5 rows × 50 columns</p>\n",
       "</div>"
      ],
      "text/plain": [
       "   id                              belongs_to_collection    budget  \\\n",
       "0   1  [{'id': 313576, 'name': 'Hot Tub Time Machine ...  14000000   \n",
       "1   2  [{'id': 107674, 'name': 'The Princess Diaries ...  40000000   \n",
       "2   3                                                 {}   3300000   \n",
       "3   4                                                 {}   1200000   \n",
       "4   5                                                 {}         0   \n",
       "\n",
       "                                              genres  \\\n",
       "0                     [{'id': 35, 'name': 'Comedy'}]   \n",
       "1  [{'id': 35, 'name': 'Comedy'}, {'id': 18, 'nam...   \n",
       "2                      [{'id': 18, 'name': 'Drama'}]   \n",
       "3  [{'id': 53, 'name': 'Thriller'}, {'id': 18, 'n...   \n",
       "4  [{'id': 28, 'name': 'Action'}, {'id': 53, 'nam...   \n",
       "\n",
       "                            homepage    imdb_id original_language  \\\n",
       "0                                NaN  tt2637294                en   \n",
       "1                                NaN  tt0368933                en   \n",
       "2  http://sonyclassics.com/whiplash/  tt2582802                en   \n",
       "3         http://kahaanithefilm.com/  tt1821480                hi   \n",
       "4                                NaN  tt1380152                ko   \n",
       "\n",
       "                             original_title  \\\n",
       "0                    Hot Tub Time Machine 2   \n",
       "1  The Princess Diaries 2: Royal Engagement   \n",
       "2                                  Whiplash   \n",
       "3                                   Kahaani   \n",
       "4                                      마린보이   \n",
       "\n",
       "                                            overview  popularity   ...    \\\n",
       "0  When Lou, who has become the \"father of the In...    6.575393   ...     \n",
       "1  Mia Thermopolis is now a college graduate and ...    8.248895   ...     \n",
       "2  Under the direction of a ruthless instructor, ...   64.299990   ...     \n",
       "3  Vidya Bagchi (Vidya Balan) arrives in Kolkata ...    3.174936   ...     \n",
       "4  Marine Boy is the story of a former national s...    1.148070   ...     \n",
       "\n",
       "  History Horror Music Mystery  Romance Science Fiction TV Movie Thriller War  \\\n",
       "0       0      0     0       0        0               0        0        0   0   \n",
       "1       0      0     0       0        1               0        0        0   0   \n",
       "2       0      0     0       0        0               0        0        0   0   \n",
       "3       0      0     0       0        0               0        0        1   0   \n",
       "4       0      0     0       0        0               0        0        1   0   \n",
       "\n",
       "  Western  \n",
       "0       0  \n",
       "1       0  \n",
       "2       0  \n",
       "3       0  \n",
       "4       0  \n",
       "\n",
       "[5 rows x 50 columns]"
      ]
     },
     "execution_count": 64,
     "metadata": {},
     "output_type": "execute_result"
    }
   ],
   "source": [
    "# one-hot encode genres\n",
    "one_hot = train['genres_temp'].str.get_dummies(sep=',')\n",
    "\n",
    "train = train.drop('genres_temp', axis = 1)\n",
    "train = train.join(one_hot)\n",
    "\n",
    "train.head()"
   ]
  },
  {
   "cell_type": "code",
   "execution_count": 65,
   "metadata": {},
   "outputs": [
    {
     "data": {
      "image/png": "[encoded data removed]",
      "text/plain": [
       "<Figure size 1080x2088 with 20 Axes>"
      ]
     },
     "metadata": {
      "needs_background": "light"
     },
     "output_type": "display_data"
    }
   ],
   "source": [
    "# plot revenue per genre\n",
    "fig, ax = plt.subplots(7, 3, figsize = [15, 29])\n",
    "# genre counter\n",
    "counter = 0\n",
    "\n",
    "for j in range(len(ax)):\n",
    "    for i in range(len(ax[j])):\n",
    "        if j == 6 and i == 2:\n",
    "            break\n",
    "        else:\n",
    "            ax[j][i] = sb.violinplot(data = train, x = all_genres[counter], y = 'revenue', ax=ax[j][i])\n",
    "            ax[j][i].set_ylabel('Revenue')\n",
    "            ax[j][i].set_xlabel(all_genres[counter])\n",
    "            counter += 1\n",
    "\n",
    "# deletes the superfluous last empty grid plot\n",
    "fig.delaxes(ax=ax[6,2]) \n",
    "        "
   ]
  },
  {
   "cell_type": "markdown",
   "metadata": {},
   "source": [
    "From the above plots, we can see that the revenue is different for different genres. I will consider this variable in my later algorithms to predict revenue. Action, Adventure, Animation and Science Fiction in particular have a higher revenue than other genres."
   ]
  },
  {
   "cell_type": "markdown",
   "metadata": {},
   "source": [
    "#### belongs_to_collection"
   ]
  },
  {
   "cell_type": "code",
   "execution_count": 66,
   "metadata": {},
   "outputs": [
    {
     "name": "stdout",
     "output_type": "stream",
     "text": [
      "[{'id': 313576, 'name': 'Hot Tub Time Machine Collection', 'poster_path': '/iEhb00TGPucF0b4joM1ieyY026U.jpg', 'backdrop_path': '/noeTVcgpBiD48fDjFVic1Vz7ope.jpg'}]\n",
      "[{'id': 107674, 'name': 'The Princess Diaries Collection', 'poster_path': '/wt5AMbxPTS4Kfjx7Fgm149qPfZl.jpg', 'backdrop_path': '/zSEtYD77pKRJlUPx34BJgUG9v1c.jpg'}]\n",
      "{}\n",
      "{}\n",
      "{}\n",
      "\n",
      " [('James Bond Collection', 16), ('Friday the 13th Collection', 7), ('The Pink Panther (Original) Collection', 6), ('Police Academy Collection', 5), ('Pokémon Collection', 5), ('Rocky Collection', 4), ('Ice Age Collection', 4), ('The Fast and the Furious Collection', 4), ('Rambo Collection', 4), ('Alien Collection', 4), ('Resident Evil Collection', 4), (\"Child's Play Collection\", 4), ('Transformers Collection', 4), ('Paranormal Activity Collection', 4), ('Rush Hour Collection', 3), ('Qatsi Collection', 3), ('The Jaws Collection', 3), ('Diary of a Wimpy Kid Collection', 3), ('Missing in Action Collection', 3), ('Cars Collection', 3), ('Alex Cross Collection', 3), ('Mexico Trilogy', 3), ('Three Heroes Collection', 3), ('Indiana Jones Collection', 3), ('[REC] Collection', 3)]\n",
      "\n",
      " 2396 data entries without belongs_to_collection.\n"
     ]
    }
   ],
   "source": [
    "# Exploration of collections\n",
    "analysis(train, 'belongs_to_collection', 25)"
   ]
  },
  {
   "cell_type": "markdown",
   "metadata": {},
   "source": [
    "There are a lot of movies that don't belong to a collection. And most of these collections only contain 3 or 4 movies. Going by the actual collection name may not be useful to predict revenue, but looking at whether a belongs to a collection or not may have an influence on the revenue."
   ]
  },
  {
   "cell_type": "code",
   "execution_count": 67,
   "metadata": {},
   "outputs": [
    {
     "data": {
      "image/png": "[encoded data removed]",
      "text/plain": [
       "<Figure size 432x288 with 1 Axes>"
      ]
     },
     "metadata": {
      "needs_background": "light"
     },
     "output_type": "display_data"
    }
   ],
   "source": [
    "# add column with 1 if movie belongs to any collection and 0 if it does not belong to any collection\n",
    "train['collection'] = train['belongs_to_collection'].apply(lambda x: 1 if x != {} else 0)\n",
    "\n",
    "sb.boxplot(x = 'collection', y = 'revenue', data = train);"
   ]
  },
  {
   "cell_type": "code",
   "execution_count": 68,
   "metadata": {},
   "outputs": [
    {
     "name": "stdout",
     "output_type": "stream",
     "text": [
      "collection\n",
      "0     43,291,589.83\n",
      "1    159,686,931.20\n",
      "Name: revenue, dtype: object\n"
     ]
    }
   ],
   "source": [
    "print(train.groupby('collection')['revenue'].mean().apply(lambda x: format(x, ',.2f')))\n"
   ]
  },
  {
   "cell_type": "markdown",
   "metadata": {},
   "source": [
    "The revenue is generally higher for movies that are part of a collection. I will use this binary collection variable for my algorithm."
   ]
  },
  {
   "cell_type": "markdown",
   "metadata": {},
   "source": [
    "#### production_companies"
   ]
  },
  {
   "cell_type": "code",
   "execution_count": 69,
   "metadata": {},
   "outputs": [
    {
     "name": "stdout",
     "output_type": "stream",
     "text": [
      "[{'name': 'Paramount Pictures', 'id': 4}, {'name': 'United Artists', 'id': 60}, {'name': 'Metro-Goldwyn-Mayer (MGM)', 'id': 8411}]\n",
      "[{'name': 'Walt Disney Pictures', 'id': 2}]\n",
      "[{'name': 'Bold Films', 'id': 2266}, {'name': 'Blumhouse Productions', 'id': 3172}, {'name': 'Right of Way Films', 'id': 32157}]\n",
      "{}\n",
      "{}\n",
      "\n",
      " [('Warner Bros.', 202), ('Universal Pictures', 188), ('Paramount Pictures', 161), ('Twentieth Century Fox Film Corporation', 138), ('Columbia Pictures', 91), ('Metro-Goldwyn-Mayer (MGM)', 84), ('New Line Cinema', 75), ('Touchstone Pictures', 63), ('Walt Disney Pictures', 62), ('Columbia Pictures Corporation', 61), ('TriStar Pictures', 53), ('Relativity Media', 48), ('Canal+', 46), ('United Artists', 44), ('Miramax Films', 40), ('Village Roadshow Pictures', 36), ('Regency Enterprises', 31), ('BBC Films', 30), ('Dune Entertainment', 30), ('Working Title Films', 30), ('Fox Searchlight Pictures', 29), ('StudioCanal', 28), ('Lionsgate', 28), ('DreamWorks SKG', 27), ('Fox 2000 Pictures', 25)]\n",
      "\n",
      " 156 data entries without production_companies.\n"
     ]
    }
   ],
   "source": [
    "# Exploration of production companies\n",
    "analysis(train, 'production_companies', 25)\n"
   ]
  },
  {
   "cell_type": "markdown",
   "metadata": {},
   "source": [
    "Only 156 movies do not have information on their production companies. I would assume that production companies can have an influence on the revenue of the movie (most likely this also has something to do with the average budget that a particular company spends on a movie). "
   ]
  },
  {
   "cell_type": "code",
   "execution_count": 70,
   "metadata": {},
   "outputs": [
    {
     "data": {
      "image/png": "[encoded data removed]",
      "text/plain": [
       "<Figure size 1080x360 with 1 Axes>"
      ]
     },
     "metadata": {
      "needs_background": "light"
     },
     "output_type": "display_data"
    }
   ],
   "source": [
    "# boxplot showing revenue depending on number of production companies\n",
    "train['num_prod_comp'] = train['production_companies'].apply(lambda x: len(x))\n",
    "\n",
    "plt.figure(figsize=[15, 5])\n",
    "sb.boxplot(x='num_prod_comp', y='revenue', data=train);"
   ]
  },
  {
   "cell_type": "code",
   "execution_count": 89,
   "metadata": {},
   "outputs": [
    {
     "name": "stdout",
     "output_type": "stream",
     "text": [
      "3695\n"
     ]
    }
   ],
   "source": [
    "# number of different production companies\n",
    "print(len(all_product_comp))\n",
    "\n",
    "total_count?"
   ]
  },
  {
   "cell_type": "code",
   "execution_count": 98,
   "metadata": {},
   "outputs": [],
   "source": [
    "# Warner Bros\n",
    "counter = 0\n",
    "top_prod_comps = []\n",
    "for item in total_count(train, 'production_companies'):\n",
    "    if counter == 15:\n",
    "        break\n",
    "    else:\n",
    "        header_name = str(item[0])+'_prod'\n",
    "        train[header_name] = train['production_companies_temp'].apply(lambda x: 1 if item[0] in x else 0)\n",
    "        top_prod_comps.append(item[0])\n",
    "    counter += 1\n"
   ]
  },
  {
   "cell_type": "code",
   "execution_count": 107,
   "metadata": {},
   "outputs": [
    {
     "data": {
      "image/png": "[encoded data removed]",
      "text/plain": [
       "<Figure size 1080x2088 with 15 Axes>"
      ]
     },
     "metadata": {
      "needs_background": "light"
     },
     "output_type": "display_data"
    }
   ],
   "source": [
    "# plotting the revenue of the most common production companies vs. the rest\n",
    "fig, ax = plt.subplots(5, 3, figsize = [15, 29])\n",
    "# company counter\n",
    "counter = 0\n",
    "\n",
    "for j in range(len(ax)):\n",
    "    for i in range(len(ax[j])):\n",
    "        if j == 4 and i == 3:\n",
    "            break\n",
    "        else:\n",
    "            ax[j][i] = sb.boxplot(data = train, x = top_prod_comps[counter]+'_prod', y = 'revenue', ax=ax[j][i])\n",
    "            ax[j][i].set_ylabel('Revenue')\n",
    "            ax[j][i].set_xlabel(top_prod_comps[counter])\n",
    "            counter += 1"
   ]
  },
  {
   "cell_type": "code",
   "execution_count": 125,
   "metadata": {},
   "outputs": [
    {
     "name": "stdout",
     "output_type": "stream",
     "text": [
      "Warner Bros._prod\n",
      "0     62,286,216.47\n",
      "1    124,816,292.78\n",
      "Name: revenue, dtype: object\n",
      "Universal Pictures_prod\n",
      "0     63,847,576.89\n",
      "1    109,294,024.26\n",
      "Name: revenue, dtype: object\n",
      "Paramount Pictures_prod\n",
      "0     63,433,421.06\n",
      "1    124,783,063.90\n",
      "Name: revenue, dtype: object\n",
      "Twentieth Century Fox Film Corporation_prod\n",
      "0     64,448,221.98\n",
      "1    113,961,915.67\n",
      "Name: revenue, dtype: object\n",
      "Columbia Pictures_prod\n",
      "0     64,816,753.40\n",
      "1    102,006,983.73\n",
      "Name: revenue, dtype: object\n",
      "Metro-Goldwyn-Mayer (MGM)_prod\n",
      "0    66,668,365.36\n",
      "1    68,721,455.67\n",
      "Name: revenue, dtype: object\n",
      "New Line Cinema_prod\n",
      "0     64,714,741.00\n",
      "1    145,159,176.37\n",
      "Name: revenue, dtype: object\n",
      "Touchstone Pictures_prod\n",
      "0    66,515,193.46\n",
      "1    76,546,547.30\n",
      "Name: revenue, dtype: object\n",
      "Walt Disney Pictures_prod\n",
      "0     61,723,409.31\n",
      "1    303,777,082.55\n",
      "Name: revenue, dtype: object\n",
      "Columbia Pictures Corporation_prod\n",
      "0    66,535,203.68\n",
      "1    75,911,345.02\n",
      "Name: revenue, dtype: object\n",
      "TriStar Pictures_prod\n",
      "0    66,516,043.65\n",
      "1    78,391,981.70\n",
      "Name: revenue, dtype: object\n",
      "Relativity Media_prod\n",
      "0     66,000,457.51\n",
      "1    111,337,606.19\n",
      "Name: revenue, dtype: object\n",
      "Canal+_prod\n",
      "0    67,279,466.28\n",
      "1    40,052,529.05\n",
      "Name: revenue, dtype: object\n",
      "United Artists_prod\n",
      "0    66,785,310.03\n",
      "1    62,731,346.14\n",
      "Name: revenue, dtype: object\n",
      "Miramax Films_prod\n",
      "0    66,927,151.07\n",
      "1    51,829,712.67\n",
      "Name: revenue, dtype: object\n"
     ]
    }
   ],
   "source": [
    "# print descriptive statistics of top 15 production companies\n",
    "prod_headers = [x + '_prod' for x in top_prod_comps]\n",
    "\n",
    "for comp in prod_headers:\n",
    "    print(train.groupby(comp)['revenue'].mean().apply(lambda x: format(x, ',.2f')))"
   ]
  },
  {
   "cell_type": "markdown",
   "metadata": {},
   "source": [
    "As can be seen from the boxplots and the revenue figures above, a majority of the movies that have one or more of the most common production companies in the train data set have a (in the case of Walt Disney significantly) higher average revenue compares to movies without those production companies."
   ]
  },
  {
   "cell_type": "markdown",
   "metadata": {},
   "source": [
    "#### production_countries"
   ]
  },
  {
   "cell_type": "code",
   "execution_count": 126,
   "metadata": {},
   "outputs": [
    {
     "name": "stdout",
     "output_type": "stream",
     "text": [
      "[{'iso_3166_1': 'US', 'name': 'United States of America'}]\n",
      "[{'iso_3166_1': 'US', 'name': 'United States of America'}]\n",
      "[{'iso_3166_1': 'US', 'name': 'United States of America'}]\n",
      "[{'iso_3166_1': 'IN', 'name': 'India'}]\n",
      "[{'iso_3166_1': 'KR', 'name': 'South Korea'}]\n",
      "\n",
      " [('United States of America', 2282), ('United Kingdom', 380), ('France', 222), ('Germany', 167), ('Canada', 120), ('India', 81), ('Italy', 64), ('Japan', 61), ('Australia', 61), ('Russia', 58), ('Spain', 54), ('China', 42), ('Hong Kong', 42), ('Ireland', 23), ('Belgium', 23), ('South Korea', 22), ('Mexico', 19), ('Sweden', 18), ('New Zealand', 17), ('Netherlands', 15), ('Czech Republic', 14), ('Denmark', 13), ('Brazil', 12), ('Luxembourg', 10), ('South Africa', 10)]\n",
      "\n",
      " 55 data entries without production_countries.\n"
     ]
    }
   ],
   "source": [
    "# Exploration of production countries\n",
    "analysis(train, 'production_countries', 25)"
   ]
  },
  {
   "cell_type": "markdown",
   "metadata": {},
   "source": [
    "Production countries has only very few missing data points. I may do some correlations between the top 15 countries and revenue later on to see whether there can be seen any connection."
   ]
  },
  {
   "cell_type": "markdown",
   "metadata": {},
   "source": [
    "#### spoken_languages"
   ]
  },
  {
   "cell_type": "code",
   "execution_count": null,
   "metadata": {},
   "outputs": [],
   "source": [
    "# Exploration of spoken languages\n",
    "analysis(train, 'spoken_languages', 25)"
   ]
  },
  {
   "cell_type": "markdown",
   "metadata": {},
   "source": [
    "I would assume that the spoken language is not going to have much influence on the revenue, since the large majority of films have English as the spoken language."
   ]
  },
  {
   "cell_type": "markdown",
   "metadata": {},
   "source": [
    "#### cast"
   ]
  },
  {
   "cell_type": "code",
   "execution_count": null,
   "metadata": {},
   "outputs": [],
   "source": [
    "# Exploration of cast\n",
    "def analysis_cast_crew(data, header, topk=30):\n",
    "    for line, value in enumerate(data[header][0][0]):\n",
    "        print(line, value)\n",
    "\n",
    "    total = total_count(data, header, topk)\n",
    "    print('\\n', total)\n",
    "\n",
    "    x = 0\n",
    "    for row in data[header]:\n",
    "        if row == {}:\n",
    "            x += 1\n",
    "\n",
    "    print('\\n', f'{x} data entries without {header}')\n",
    "    \n",
    "analysis_cast_crew(train, 'cast', 25)"
   ]
  },
  {
   "cell_type": "markdown",
   "metadata": {},
   "source": [
    "Cast and budget are likely to have at least a moderate correlation, so this could also be predictive of revenue. Gender or gender ratio may also be interesting in this regard."
   ]
  },
  {
   "cell_type": "markdown",
   "metadata": {},
   "source": [
    "#### crew"
   ]
  },
  {
   "cell_type": "code",
   "execution_count": null,
   "metadata": {},
   "outputs": [],
   "source": [
    "# Exploration of crew\n",
    "analysis_cast_crew(train, 'crew', 25)"
   ]
  },
  {
   "cell_type": "markdown",
   "metadata": {},
   "source": [
    "Given who the director or producer of a film is, I'd be interested to see whether there could be any relation. Actually gender might be an interesting additional field to look into in this case."
   ]
  },
  {
   "cell_type": "markdown",
   "metadata": {},
   "source": [
    "#### Keywords"
   ]
  },
  {
   "cell_type": "code",
   "execution_count": null,
   "metadata": {},
   "outputs": [],
   "source": [
    "# Exploration of keywords\n",
    "analysis(train, 'Keywords', 25)"
   ]
  },
  {
   "cell_type": "markdown",
   "metadata": {},
   "source": [
    "I could imagine that keywords such as 'sequel', 'based on novel' or 'independent film' could be quite predictive of revenue."
   ]
  },
  {
   "cell_type": "markdown",
   "metadata": {},
   "source": [
    "### Categorical variables\n",
    "\n",
    "#### homepage"
   ]
  },
  {
   "cell_type": "code",
   "execution_count": null,
   "metadata": {},
   "outputs": [],
   "source": [
    "# Exploration of homepage variable\n",
    "\n",
    "# Fill all NAs\n",
    "missing_val = train['homepage'].isnull().sum()\n",
    "print(f'{missing_val} data entries without homepage')\n",
    "\n",
    "train['homepage'] = train['homepage'].fillna('None');\n"
   ]
  },
  {
   "cell_type": "markdown",
   "metadata": {},
   "source": [
    "I wouldn't know of the top off my head how a homepage could be predictive of the revenue. I'll most likely disregard this variable."
   ]
  },
  {
   "cell_type": "markdown",
   "metadata": {},
   "source": [
    "#### poster path\n",
    "This could be very interesting to see whether there is a correlation between the poster and the revenue of a movie. I might do a separate analysis of movie posters predicting revenue."
   ]
  },
  {
   "cell_type": "code",
   "execution_count": null,
   "metadata": {},
   "outputs": [],
   "source": [
    "# Exploring the poster path variable\n",
    "\n",
    "# Fill all NAs\n",
    "missing_val = train['poster_path'].isnull().sum()\n",
    "print(f'{missing_val} data entries without poster path')\n",
    "\n",
    "train['poster_path'] = train['poster_path'].fillna('None');\n",
    "test['poster_path'] = test['poster_path'].fillna('None');"
   ]
  },
  {
   "cell_type": "markdown",
   "metadata": {},
   "source": [
    "#### imdb id\n",
    "I think this is mainly included in the dataset so that pulling in data from the IMDb API would be easier. For now, I will refrain from doing that and only focus on this existing dataset. There is not need for exploration of this variable.\n"
   ]
  },
  {
   "cell_type": "code",
   "execution_count": null,
   "metadata": {
    "scrolled": true
   },
   "outputs": [],
   "source": [
    "# Dropping the imdb_id variable from the dataframe\n",
    "train_backup = train\n",
    "train_new = train.drop(['imdb_id'], axis=1)\n",
    "train_imdb = train_backup\n",
    "train = train_new\n",
    "\n",
    "test_backup = test\n",
    "test_new = test.drop(['imdb_id'], axis=1)\n",
    "test_imdb = test_backup\n",
    "test = test_new\n",
    "\n",
    "test.head(2)"
   ]
  },
  {
   "cell_type": "markdown",
   "metadata": {},
   "source": [
    "#### status"
   ]
  },
  {
   "cell_type": "code",
   "execution_count": null,
   "metadata": {},
   "outputs": [],
   "source": [
    "# Exploring the status variable\n",
    "print(train['status'].value_counts(), '\\n')\n",
    "print(test['status'].value_counts())"
   ]
  },
  {
   "cell_type": "markdown",
   "metadata": {},
   "source": [
    "The only return that makes sense is released because how would revenue be known if the movie is only rumored? Given that there are only 4 returns in the train dataset with the status 'Rumored', I will drop this feature from the dataset."
   ]
  },
  {
   "cell_type": "code",
   "execution_count": null,
   "metadata": {},
   "outputs": [],
   "source": [
    "# Dropping the status variable\n",
    "train = train.drop(['status'], axis=1)\n",
    "test = test.drop(['status'], axis=1)"
   ]
  },
  {
   "cell_type": "markdown",
   "metadata": {},
   "source": [
    "#### original language"
   ]
  },
  {
   "cell_type": "code",
   "execution_count": null,
   "metadata": {},
   "outputs": [],
   "source": [
    "# Exploration original language\n",
    "\n",
    "# Fill all NAs\n",
    "missing_val = train['original_language'].isnull().sum()\n",
    "print(f'{missing_val} data entries without original language')\n",
    "\n",
    "train['original_language'] = train['original_language'].fillna('None')\n",
    "test['original_language'] = test['original_language'].fillna('None')\n",
    "\n",
    "# Count how many films per language\n",
    "total_lang = collections.Counter(train['original_language'])\n",
    "print('\\n', total_lang)"
   ]
  },
  {
   "cell_type": "markdown",
   "metadata": {},
   "source": [
    "#### original title\n",
    "For this variable it may actually be interesting to see how many films are sequels (or prequels). First, I'll extract all titles that have a number in them and then I'll look for similarly titles (e.g. Harry Potter and ...)."
   ]
  },
  {
   "cell_type": "code",
   "execution_count": null,
   "metadata": {},
   "outputs": [],
   "source": [
    "# Exploration original title\n",
    "\n",
    "# Fill all NAs\n",
    "missing_val = train['original_title'].isnull().sum()\n",
    "print(f'{missing_val} data entries without original title')\n",
    "\n",
    "train['original_title'] = train['original_title'].fillna('None')\n",
    "test['original_title'] = test['original_title'].fillna('None')\n",
    "\n",
    "# list all movies that contain numbers\n",
    "films_with_ints = sorted([title for title in train['original_title'] if re.search(r'\\d+', title)])\n",
    "\n",
    "print(f'{len(films_with_ints)} movies have a title that contains one or more integers')\n",
    "\n",
    "# create a wordcloud\n",
    "all_org_title = train['original_title'].str.cat(sep=' ')\n",
    "wordcloud = WordCloud().generate(all_org_title)\n",
    "\n",
    "plt.imshow(wordcloud, interpolation='bilinear')\n",
    "plt.axis('off')\n",
    "plt.show()\n"
   ]
  },
  {
   "cell_type": "code",
   "execution_count": null,
   "metadata": {},
   "outputs": [],
   "source": [
    "# print some checks to see how the above words are taken into account\n",
    "print(all_org_title.count('Life'))\n",
    "\n",
    "word = [x for x in train['original_title'] if 'Life' in x]\n",
    "\n",
    "print(word)"
   ]
  },
  {
   "cell_type": "markdown",
   "metadata": {},
   "source": [
    "#### overview"
   ]
  },
  {
   "cell_type": "code",
   "execution_count": null,
   "metadata": {},
   "outputs": [],
   "source": [
    "# Explore the overview variable\n",
    "\n",
    "# Fill all NAs\n",
    "missing_val = train['overview'].isnull().sum()\n",
    "print(f'{missing_val} data entries without overview')\n",
    "\n",
    "train['overview'] = train['overview'].fillna('None')\n",
    "test['overview'] = test['overview'].fillna('None')\n",
    "\n",
    "# Creating word cloud\n",
    "all_overviews = train['overview'].str.cat(sep=' ')\n",
    "wordcloud = WordCloud().generate(all_overviews)\n",
    "\n",
    "plt.imshow(wordcloud, interpolation='bilinear')\n",
    "plt.axis('off')\n",
    "plt.show()"
   ]
  },
  {
   "cell_type": "code",
   "execution_count": null,
   "metadata": {},
   "outputs": [],
   "source": [
    "# check how many times a word above actually appears in the overviews\n",
    "print(all_overviews.count('family'))\n"
   ]
  },
  {
   "cell_type": "markdown",
   "metadata": {},
   "source": [
    "I may take the top 10 (?) words of this word cloud and consider these in my algorithm."
   ]
  },
  {
   "cell_type": "markdown",
   "metadata": {},
   "source": [
    "#### tagline"
   ]
  },
  {
   "cell_type": "code",
   "execution_count": null,
   "metadata": {},
   "outputs": [],
   "source": [
    "# Explore the tagline variable\n",
    "\n",
    "# Fill all NAs\n",
    "missing_val = train['tagline'].isnull().sum()\n",
    "print(f'{missing_val} data entries without tagline')\n",
    "\n",
    "train['tagline'] = train['tagline'].fillna('None')\n",
    "test['tagline'] = test['tagline'].fillna('None')\n",
    "\n",
    "# Creating word cloud\n",
    "all_tagline = train['tagline'].str.cat(sep=' ')\n",
    "wordcloud = WordCloud().generate(all_tagline)\n",
    "\n",
    "plt.imshow(wordcloud, interpolation='bilinear')\n",
    "plt.axis('off')\n",
    "plt.show()"
   ]
  },
  {
   "cell_type": "markdown",
   "metadata": {},
   "source": [
    "The tagline could be used in a similar way as the title or overview of a movie. I may consider it."
   ]
  },
  {
   "cell_type": "markdown",
   "metadata": {},
   "source": [
    "#### title\n",
    "I will check how big the difference between title and original title is."
   ]
  },
  {
   "cell_type": "code",
   "execution_count": null,
   "metadata": {},
   "outputs": [],
   "source": [
    "# Exploring the title variable\n",
    "missing_val = train['title'].isnull().sum()\n",
    "print(f'{missing_val} data entries without title')\n",
    "\n",
    "train['title'] = train['title'].fillna('None')\n",
    "test['title'] = test['title'].fillna('None')\n",
    "\n",
    "v = train['title']\n",
    "w = train['original_title']\n",
    "\n",
    "diff_list_title = [{x: y} for x, y in zip(train['title'] , train['original_title']) if x != y]\n",
    "\n",
    "print(diff_list_title[:5])\n"
   ]
  },
  {
   "cell_type": "markdown",
   "metadata": {},
   "source": [
    "There is a difference of ~12% between the title and original title. Since the title is in English, I will only consider this and not the original title."
   ]
  },
  {
   "cell_type": "code",
   "execution_count": null,
   "metadata": {},
   "outputs": [],
   "source": [
    "# list all movies that contain numbers\n",
    "films_with_ints = sorted([title for title in train['title'] if re.search(r'\\d+', title)])\n",
    "\n",
    "print(f'{len(films_with_ints)} movies have a title that contains one or more integers')\n",
    "\n",
    "# create a wordcloud\n",
    "all_title = train['title'].str.cat(sep=' ')\n",
    "wordcloud = WordCloud().generate(all_title)\n",
    "\n",
    "plt.imshow(wordcloud, interpolation='bilinear')\n",
    "plt.axis('off')\n",
    "plt.show()"
   ]
  },
  {
   "cell_type": "code",
   "execution_count": null,
   "metadata": {},
   "outputs": [],
   "source": [
    "# Dropping original title variable\n",
    "train = train.drop('original_title', axis=1)\n",
    "test = test.drop('original_title', axis=1)\n"
   ]
  },
  {
   "cell_type": "markdown",
   "metadata": {},
   "source": [
    "### Numeric variables\n"
   ]
  },
  {
   "cell_type": "markdown",
   "metadata": {},
   "source": [
    "#### budget\n",
    "I'll now take a look at the numerical features of the dataset. The budget figures are not inflation adjusted."
   ]
  },
  {
   "cell_type": "code",
   "execution_count": null,
   "metadata": {},
   "outputs": [],
   "source": [
    "# descriptive statistics for budget variable\n",
    "print(train['budget'].describe().apply(lambda x: format(x, 'f')))\n",
    "\n",
    "# print number of NAs\n",
    "mis_val = train['budget'].isnull().sum()\n",
    "print('\\n', f'{mis_val} values missing from budget variable')\n",
    "\n",
    "# print number of zeroes which is equivalent to a missing value\n",
    "zeroes = [x for x in train['budget'] if x == 0]\n",
    "print('\\n', f'{len(zeroes)} values with the value 0 which is equivalent to a missing value')\n",
    "\n",
    "trim_10_rev = stats.trim_mean(train['budget'], 0.1)\n",
    "print('\\n', f'The 10% trimmed mean is {trim_10_rev}')\n"
   ]
  },
  {
   "cell_type": "code",
   "execution_count": null,
   "metadata": {},
   "outputs": [],
   "source": [
    "# creating color variables for upcoming plots\n",
    "orange = sb.color_palette()[1]\n",
    "blue = sb.color_palette()[0]\n",
    "green = sb.color_palette()[2]\n",
    "red = sb.color_palette()[3]\n",
    "purple = sb.color_palette()[4]\n"
   ]
  },
  {
   "cell_type": "markdown",
   "metadata": {},
   "source": [
    "Budget is a very skewed variable. I will apply a log transformation to ease this bias."
   ]
  },
  {
   "cell_type": "code",
   "execution_count": null,
   "metadata": {},
   "outputs": [],
   "source": [
    "# plotting the budget variable\n",
    "\n",
    "plt.figure(figsize=[15, 5])\n",
    "plt.subplot(1, 2, 1)\n",
    "sb.distplot(train['budget'], bins = 50)\n",
    "plt.xlim(-10000000, 300000000)\n",
    "plt.xlabel('Budget')\n",
    "plt.title('Histogram with KDE for budget')\n",
    "\n",
    "# log transforming the data\n",
    "plt.subplot(1, 2, 2)\n",
    "log_data = np.log10(train['budget'] + 1) # add plus 1 to avoid log(0)\n",
    "plt.xlabel('Budget')\n",
    "plt.ylabel('Number of observations')\n",
    "plt.title('Histogram with log transformed budget')\n",
    "bin_edges = 10 ** np.arange(0.8, np.log10(train['budget'].max()) + 0.2, 0.2)\n",
    "plt.hist(train['budget'], bins=bin_edges, color = green);\n",
    "plt.xscale('log')\n",
    "labels = [10, 30, 100, 300, '1 T', '3 T', '10 T', '30 T', '100 T', '300 T', '1 M', '3 M', '10 M', '30 M', '100 M', '300 M']\n",
    "tick_locs = [10, 30, 100, 300, 1000, 3000, 10000, 30000, 100000, 300000, 1000000, 3000000, 10000000, 30000000, 100000000, 300000000]\n",
    "plt.xticks(tick_locs, labels, rotation=45);\n"
   ]
  },
  {
   "cell_type": "code",
   "execution_count": null,
   "metadata": {},
   "outputs": [],
   "source": [
    "# Scatterplot of budget vs. revenue\n",
    "fig, axes = plt.subplots(figsize= [15, 5])\n",
    "\n",
    "plt.subplot(1, 3, 1)\n",
    "plt.xlabel('Budget')\n",
    "plt.ylabel('Revenue')\n",
    "plt.title('Scatterplot budget vs. revenue')\n",
    "plt.scatter(data = train, x='budget', y='revenue', alpha = 0.2);\n",
    "\n",
    "# drop all rows with zeros\n",
    "train_new = ['budget', 'revenue']\n",
    "placeholder = train[train_new]\n",
    "placeholder = placeholder.loc[~(placeholder==0).any(axis=1)]\n",
    "\n",
    "# scatterplot without the NA/zero values in budget variable\n",
    "plt.subplot(1, 3, 2)\n",
    "plt.xlabel('Budget')\n",
    "plt.ylabel('Revenue')\n",
    "plt.title('Scatterplot budget vs. revenue without 0 values')\n",
    "plt.scatter(placeholder['budget'], placeholder['revenue'], alpha = 0.2, color = orange);\n",
    "\n",
    "# regplot with log transformation\n",
    "plt.subplot(1, 3, 3)\n",
    "sb.regplot(placeholder['budget'], placeholder['revenue'].apply(lambda x: np.log10(x)), scatter_kws={'alpha': 0.2}, color = green);\n",
    "ax = plt.gca()\n",
    "ax.set_xticklabels(['0', '0', '1 M', '2 M', '3 M'])\n",
    "plt.xlabel('Budget')\n",
    "plt.ylabel('Revenue')\n",
    "plt.title('Regplot with log transformed revenue');\n",
    "\n"
   ]
  },
  {
   "cell_type": "markdown",
   "metadata": {},
   "source": [
    "There was only a mild improvement in the scatterplot of budget vs. revenue after removing all rows with values of 0. During the feature transformation section, I will exclude all rows that do not have a budget value. Looking at the regplot with a log transformed revenue (which I applied because the distribution of points appeared to be in the form of log(y) &alpha;\tx), there seems to be a moderate non-linear relationship between these two variables."
   ]
  },
  {
   "cell_type": "markdown",
   "metadata": {},
   "source": [
    "#### revenue\n",
    "The revenue figures are not adjusted for inflation, so I am expecting the revenue figures to continuously increase over the years just because of the increase of ticket prices. It is rather difficult to properly adjust revenue for inflation. First of all, ticket prices increased at a different pace than overall inflation. Moreover, there are many instances where a movie was re-released over time, so ticket prices would need to be used to calculate the number of tickets sold at those particular re-release years. It gets messy fairly quickly. I will therefore stick to the unadjusted numbers, the same way I am keeping the budget unadjusted as well."
   ]
  },
  {
   "cell_type": "code",
   "execution_count": null,
   "metadata": {},
   "outputs": [],
   "source": [
    "# get descriptive statistics for revenue variable\n",
    "print(train['revenue'].describe().apply(lambda x: format(x, 'f')))\n",
    "mis_val_rev = train['revenue'].isnull().sum().sum()\n",
    "print('\\n', f'{mis_val_rev} entries NA')\n",
    "\n",
    "trim_10_rev = stats.trim_mean(tuple(train['revenue']), 0.1) # tuple declaration is necessary to avoid warning message\n",
    "print('\\n', f'The 10% trimmed mean is {trim_10_rev}')"
   ]
  },
  {
   "cell_type": "code",
   "execution_count": null,
   "metadata": {},
   "outputs": [],
   "source": [
    "# plotting the revenue variable\n",
    "\n",
    "plt.figure(figsize=[15, 5])\n",
    "plt.subplot(1, 2, 1)\n",
    "sb.distplot(train['revenue'], bins = 50)\n",
    "plt.xlim(-10000000, 1500000000)\n",
    "plt.xlabel('Revenue')\n",
    "plt.title('Histogram with Kernel Density Estimation for revenue')\n",
    "\n",
    "# log transforming the data\n",
    "plt.subplot(1, 2, 2)\n",
    "log_data = np.log10(train['revenue'] + 1) # add plus 1 to avoid log(0)\n",
    "plt.xlabel('Revenue')\n",
    "plt.ylabel('Number of observations')\n",
    "plt.title('Log transformed histogram for revenue')\n",
    "bin_edges = 10 ** np.arange(0.8, np.log10(train['revenue'].max()) + 0.2, 0.2)\n",
    "plt.hist(train['revenue'], bins=bin_edges, color = green);\n",
    "plt.xscale('log')\n",
    "labels = [10, 30, 100, 300, '1 T', '3 T', '10 T', '30 T', '100 T', '300 T', '1 M', '3 M', '10 M', '30 M', '100 M', '300 M', '1 B', '3 B']\n",
    "tick_locs = [10, 30, 100, 300, 1000, 3000, 10000, 30000, 100000, 300000, 1000000, 3000000, 10000000, 30000000, 100000000, 300000000, 1000000000, 3000000000]\n",
    "plt.xticks(tick_locs, labels, rotation=45);\n"
   ]
  },
  {
   "cell_type": "markdown",
   "metadata": {},
   "source": [
    "#### popularity"
   ]
  },
  {
   "cell_type": "code",
   "execution_count": null,
   "metadata": {},
   "outputs": [],
   "source": [
    "# get descriptive statistics for popularity variable\n",
    "print(train['popularity'].describe().apply(lambda x: format(x, 'f')))\n",
    "mis_val_rev = train['popularity'].isnull().sum().sum()\n",
    "print('\\n', f'{mis_val_rev} entries NA')\n",
    "\n",
    "# print number entries with a value of less than 1\n",
    "zeroes = [x for x in train['popularity'] if x < 1]\n",
    "print('\\n', f'{len(zeroes)} values that are smaller than 1.', '\\n')\n",
    "\n",
    "# print the ten most popular movies in the train dataset\n",
    "pop_train = [{x: y} for x, y in zip(train['popularity'] , train['title']) if x > 100]\n",
    "pop_train_s = sorted(pop_train, key=lambda x: list(x.keys()))[:10]\n",
    "print(f'Most popular movies in train dataset: {pop_train_s}', '\\n')\n",
    "\n",
    "# print the ten most popular movies in the test dataset\n",
    "pop_test = [{v: w} for v, w in zip(test['popularity'] , test['title']) if v > 100]\n",
    "pop_test_s = sorted(pop_test, key=lambda y: list(y.keys()))[:10]\n",
    "print(f'Most popular movies in test dataset: {pop_test_s}')\n"
   ]
  },
  {
   "cell_type": "code",
   "execution_count": null,
   "metadata": {},
   "outputs": [],
   "source": [
    "# visual exploration of the popularity variable\n",
    "\n",
    "# distplot of popularity\n",
    "plt.figure(figsize = [15, 5])\n",
    "plt.subplot(1, 2, 1)\n",
    "sb.distplot(train['popularity'], bins = 80)\n",
    "plt.xlabel('Popularity')\n",
    "plt.title('Histogram with Kernel Density Estimation for popularity')\n",
    "\n",
    "# log transformed histogram\n",
    "plt.subplot(1, 2, 2)\n",
    "log_data = np.log10(tuple(train['popularity'] + 1)) # add plus 1 to avoid log(0) and put it into tuple to avoid warning\n",
    "plt.xlabel('Popularity')\n",
    "plt.ylabel('Number of observations')\n",
    "plt.title('Log transformed histogram for popularity')\n",
    "bin_edges = 10 ** np.arange(0.8, np.log10(train['popularity'].max()) + 0.05, 0.05)\n",
    "plt.hist(train['popularity'], bins=bin_edges, color = green);\n",
    "plt.xscale('log')\n",
    "tick_locs = [10, 30, 100, 300]\n",
    "plt.xticks(tick_locs, tick_locs,);\n"
   ]
  },
  {
   "cell_type": "code",
   "execution_count": null,
   "metadata": {},
   "outputs": [],
   "source": [
    "# scatterplot of popularity vs. revenue\n",
    "plt.figure(figsize = [15, 5])\n",
    "\n",
    "plt.subplot(1, 2, 1)\n",
    "plt.xlabel('Popularity')\n",
    "plt.ylabel('Revenue')\n",
    "plt.title('Popularity plotted against Revenue')\n",
    "sb.scatterplot(data = train, x='popularity', y='revenue')\n",
    "\n",
    "plt.subplot(1, 2, 2)\n",
    "plt.xlabel('Popularity')\n",
    "plt.ylabel('Revenue')\n",
    "plt.title('Popularity against Revenue correlation')\n",
    "sb.regplot(data = train, x='popularity', y='revenue', color = orange, scatter_kws = {'alpha': 0.2});\n"
   ]
  },
  {
   "cell_type": "markdown",
   "metadata": {},
   "source": [
    "I actually expected this metric to be similar to a star rating from 1 to 10. However, according to the movie databases [API docs](https://developers.themoviedb.org/3/getting-started/popularity), it is based on a number of different metrics, including number of votes and views for a day. Moreover, according to a [moderator at the TMDB website](https://www.themoviedb.org/talk/5141d424760ee34da71431b0), the lower bound of this value is 0 and the upper bound is technically infinity. The higher the value (and in this sense, it is a ranking), the more popular a title is. For example, the most popular movie title in the train dataset is Wonder Woman. Given the above plots, surprisingly, there seems to be a low correlation between the popularity variable of a movie and the revenue it generates."
   ]
  },
  {
   "cell_type": "markdown",
   "metadata": {},
   "source": [
    "#### release date"
   ]
  },
  {
   "cell_type": "code",
   "execution_count": null,
   "metadata": {},
   "outputs": [],
   "source": [
    "# get descriptive statistics for release date variable\n",
    "print(train['release_date'].describe())\n",
    "mis_val_rev = train['release_date'].isnull().sum().sum()\n",
    "print('\\n', f'{mis_val_rev} entries NA', '\\n')\n",
    "\n",
    "# create new dataframe columns containing only the year and only the month of release\n",
    "temp_col = ['release_date', 'revenue', 'title']\n",
    "temp = pd.DataFrame(train[temp_col])\n",
    "\n",
    "temp['release_year'] = train['release_date'].map(lambda x: str(19) + x[-2:] if int(x[-2:]) > 17 else str(20) + x[-2:])\n",
    "temp['release_month'] = train['release_date'].map(lambda x: int(x[:2]) if x[1] != '/' else int(x[:1]))\n",
    "\n",
    "print(temp.head())"
   ]
  },
  {
   "cell_type": "markdown",
   "metadata": {},
   "source": [
    "The raw release_date data in the train and test files only contain a shortened year format such as '17' or '87'. There is a gap in the years between the years 17 and 21. In order to ensure that 17 actually refers to 2017, I am printing out the movies released in 2017 to do a quick check if they actually were released then (and not in 1917)."
   ]
  },
  {
   "cell_type": "code",
   "execution_count": null,
   "metadata": {},
   "outputs": [],
   "source": [
    "# print the movies that were released in '17 to check whether this year relates to 2017 or 1917\n",
    "\n",
    "seventeen = [x for x, y in zip(temp['title'], temp['release_year']) if int(y) == 2017]\n",
    "\n",
    "print(seventeen)"
   ]
  },
  {
   "cell_type": "code",
   "execution_count": null,
   "metadata": {},
   "outputs": [],
   "source": [
    "# number of films per year\n",
    "\n",
    "plt.figure(figsize = [8, 5])\n",
    "\n",
    "acc_year = temp['release_year'].value_counts().sort_index()\n",
    "\n",
    "acc_year.index = acc_year.index.values.astype(int)\n",
    "\n",
    "plt.plot(acc_year.index, acc_year.values, color = orange);\n",
    "plt.xlabel('Release years')\n",
    "plt.ylabel('Number of movies')\n",
    "plt.title('Movies released per year')\n",
    "plt.xticks(rotation=45);\n",
    "\n",
    "plt.locator_params(axis='x', nbins=7)"
   ]
  },
  {
   "cell_type": "code",
   "execution_count": null,
   "metadata": {},
   "outputs": [],
   "source": [
    "# number of movies released per year and the average revenue per year\n",
    "\n",
    "fig, ax1 = plt.subplots(figsize = [8, 5])\n",
    "\n",
    "acc_year = temp['release_year'].value_counts().sort_index()\n",
    "avg_rev = temp.groupby(['release_year'])['revenue'].mean()\n",
    "\n",
    "acc_year.index = acc_year.index.values.astype(int)\n",
    "\n",
    "ax1.plot(acc_year.index, acc_year.values, color = orange)\n",
    "ax1.set_xlabel('Release year')\n",
    "ax1.set_ylabel('Number of movies', color = orange)\n",
    "ax1.tick_params(axis='y', labelcolor = orange)\n",
    "plt.title('Movies released per year and average revenue per year')\n",
    "\n",
    "ax2 = ax1.twinx() # instantiate a second axes that shares the same x-axis\n",
    "# using d1.index as the x values, just like for the y-axis on the left\n",
    "ax2.plot(acc_year.index, avg_rev.values, color = purple)\n",
    "ax2.set_ylabel('Revenue', color = purple)\n",
    "ax2.tick_params(axis='y', labelcolor = purple)\n"
   ]
  },
  {
   "cell_type": "markdown",
   "metadata": {},
   "source": [
    "As mentioned before, the revenue and budget figures are not inflation adjusted in this dataset. Because of this large spike of average revenue per film in the 1970s, I want to check whether there is actually some bad data in this data set (namely an inflation adusted revenue figure), so I will take a look at the particular films that were released that year and cross check the numbers with the data from the Box Office Mojo site, which provides inflation adjusted revenue numbers."
   ]
  },
  {
   "cell_type": "code",
   "execution_count": null,
   "metadata": {},
   "outputs": [],
   "source": [
    "# create new dataframe containing accumulated figures\n",
    "column_corr = ['release_year', 'movies_year', 'avg_rev_year']\n",
    "\n",
    "corr = pd.DataFrame(columns = [column_corr])\n",
    "\n",
    "corr['release_year'] = sorted(set(temp['release_year']))\n",
    "corr['movies_year'] = acc_year.values\n",
    "corr['avg_rev_year'] = avg_rev.values\n",
    "\n",
    "print(corr.head())"
   ]
  },
  {
   "cell_type": "code",
   "execution_count": null,
   "metadata": {},
   "outputs": [],
   "source": [
    "# print if movies were release in certain year\n",
    "\n",
    "top_gross_mov = [{y['release_year'][0]: '{0:,.2f}'.format(y['avg_rev_year'][0])} for x, y in corr.iterrows() if float(y['avg_rev_year']) > 80000000]\n",
    "print(top_gross_mov, '\\n')\n",
    "\n",
    "movies_1975 = [{y['title']: '{0:,}'.format(y['revenue'])} for x, y in temp.iterrows() if float(y['release_year']) == 1975]\n",
    "print(movies_1975)"
   ]
  },
  {
   "cell_type": "markdown",
   "metadata": {},
   "source": [
    "By manual comparison (for now), the numbers of these movies in 1975 are not inflation adjusted. The big outlier is Jaws with USD470 million but this is indeed the unadjusted gross figure. I will now take a look at the correlation between release month and the revenue."
   ]
  },
  {
   "cell_type": "code",
   "execution_count": null,
   "metadata": {},
   "outputs": [],
   "source": [
    "sb.boxplot(x='release_month', y='revenue', data = temp, color = orange)\n",
    "plt.xlabel('Months of the Year')\n",
    "plt.ylabel('Revenue')\n",
    "plt.title('Months plotted against Revenue');"
   ]
  },
  {
   "cell_type": "code",
   "execution_count": null,
   "metadata": {},
   "outputs": [],
   "source": [
    "# revenue by month of year\n",
    "fig, ax1 = plt.subplots(figsize = [8, 5])\n",
    "\n",
    "acc_month = temp['release_month'].value_counts().sort_index()\n",
    "avg_rev_month = temp.groupby(['release_month'])['revenue'].mean()\n",
    "\n",
    "acc_month.index = acc_month.index.values.astype(int)\n",
    "\n",
    "ax1.plot(acc_month.index, acc_month.values, color = orange)\n",
    "ax1.set_xlabel('Release month')\n",
    "ax1.set_ylabel('Number of movies', color = orange)\n",
    "ax1.tick_params(axis='y', labelcolor = orange)\n",
    "plt.title('Movies released based on month and average revenue per month over time')\n",
    "\n",
    "ax2 = ax1.twinx() # instantiate a second axes that shares the same x-axis\n",
    "# using d1.index as the x values, just like for the y-axis on the left\n",
    "ax2.plot(acc_month.index, avg_rev_month.values, color = purple)\n",
    "ax2.set_ylabel('Revenue', color = purple)\n",
    "ax2.tick_params(axis='y', labelcolor = purple)"
   ]
  },
  {
   "cell_type": "markdown",
   "metadata": {},
   "source": [
    "While the most movies are released in September and October, the highest average revenue is generated in June, July, and December. The boxplot above shows that the highest grossing movies were actually released in April. Based on the above plots, the release month may be predictive of revenue."
   ]
  },
  {
   "cell_type": "markdown",
   "metadata": {},
   "source": [
    "#### runtime"
   ]
  },
  {
   "cell_type": "code",
   "execution_count": null,
   "metadata": {},
   "outputs": [],
   "source": [
    "# get descriptive statistics for runtime variable\n",
    "print(train['runtime'].describe())\n",
    "mis_val_run = train['runtime'].isnull().sum().sum()\n",
    "print('\\n', f'{mis_val_run} entries NA', '\\n')\n",
    "\n",
    "# fill all NAs with 0s\n",
    "train['runtime'] = train['runtime'].fillna(0);\n"
   ]
  },
  {
   "cell_type": "code",
   "execution_count": null,
   "metadata": {},
   "outputs": [],
   "source": [
    "plt.figure(figsize = [15, 5])\n",
    "\n",
    "plt.subplot(1, 2, 1)\n",
    "plt.xlabel('Runtime of a movie')\n",
    "plt.ylabel('Frequency')\n",
    "sb.distplot(train['runtime'], bins=40);\n",
    "\n",
    "plt.subplot(1, 2, 2)\n",
    "sb.scatterplot(data = train, x='runtime', y='revenue', color = orange, alpha=0.4)\n"
   ]
  },
  {
   "cell_type": "code",
   "execution_count": null,
   "metadata": {},
   "outputs": [],
   "source": [
    "correl, p_value = pearsonr(train['runtime'], train['revenue'])\n",
    "\n",
    "print(correl)"
   ]
  },
  {
   "cell_type": "markdown",
   "metadata": {},
   "source": [
    "The correlation between runtime and revenue is fairly low. It does not seem that runtime is particularly predictive of revenue."
   ]
  },
  {
   "cell_type": "markdown",
   "metadata": {},
   "source": [
    "# Feature Engineering\n",
    "\n",
    "In the sections below, I will clean and transform all variables I want to consider for the prediction of revenue.\n"
   ]
  },
  {
   "cell_type": "markdown",
   "metadata": {},
   "source": [
    "In order to one-hot encode my categorical variables, I first need to store the values currently in dictionary format into a string with each individual name separated by commas. This will then allow me to use str.get_dummies(sep=',') to one-hot encode these variables."
   ]
  },
  {
   "cell_type": "code",
   "execution_count": null,
   "metadata": {},
   "outputs": [],
   "source": []
  },
  {
   "cell_type": "code",
   "execution_count": null,
   "metadata": {},
   "outputs": [],
   "source": [
    "# log transforming any skewed numeric variables\n",
    "#skewed = ['', 'capital-loss']\n",
    "#features_log_transformed = pd.DataFrame(data = features_raw)\n",
    "#features_log_transformed[skewed] = features_raw[skewed].apply(lambda x: np.log(x + 1))"
   ]
  },
  {
   "cell_type": "markdown",
   "metadata": {},
   "source": [
    "## Analysis ideas\n",
    "Could be interesting to look at:\n",
    "* correlation between month of release and revenue\n",
    "* question: do I need to account for inflation when looking at the revenue made from movies? --> they are not inflation adjusted"
   ]
  },
  {
   "cell_type": "code",
   "execution_count": null,
   "metadata": {},
   "outputs": [],
   "source": []
  }
 ],
 "metadata": {
  "kernelspec": {
   "display_name": "Python 3",
   "language": "python",
   "name": "python3"
  },
  "language_info": {
   "codemirror_mode": {
    "name": "ipython",
    "version": 3
   },
   "file_extension": ".py",
   "mimetype": "text/x-python",
   "name": "python",
   "nbconvert_exporter": "python",
   "pygments_lexer": "ipython3",
   "version": "3.7.1"
  }
 },
 "nbformat": 4,
 "nbformat_minor": 2
}

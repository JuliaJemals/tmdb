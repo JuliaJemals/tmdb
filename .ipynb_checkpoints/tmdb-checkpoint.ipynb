{
 "cells": [
  {
   "cell_type": "markdown",
   "metadata": {},
   "source": [
    "We are using data from the The Movie Data Base on 7398 movies and a variety of metadata, including cast, crew, plot keywords, budget, posters, release dates, languages, production companies, and countries. We will use this data to predict worldwide revenue for 4398 of them."
   ]
  },
  {
   "cell_type": "code",
   "execution_count": 19,
   "metadata": {},
   "outputs": [],
   "source": [
    "import pandas as pd\n",
    "import numpy as np\n",
    "import collections\n",
    "from datetime import datetime\n",
    "import matplotlib.pyplot as plt\n",
    "import seaborn as sb\n",
    "from ast import literal_eval\n",
    "\n",
    "%matplotlib inline"
   ]
  },
  {
   "cell_type": "markdown",
   "metadata": {},
   "source": [
    "Since the data in some of the variables, e.g. genres, Keywords, cast, were originally in json format but due to the formatting of the csv file were imported as strings into the dataframe, we need to turn the strings back into lists and dictionaries."
   ]
  },
  {
   "cell_type": "code",
   "execution_count": 82,
   "metadata": {
    "scrolled": true
   },
   "outputs": [
    {
     "data": {
      "text/html": [
       "<div>\n",
       "<style scoped>\n",
       "    .dataframe tbody tr th:only-of-type {\n",
       "        vertical-align: middle;\n",
       "    }\n",
       "\n",
       "    .dataframe tbody tr th {\n",
       "        vertical-align: top;\n",
       "    }\n",
       "\n",
       "    .dataframe thead th {\n",
       "        text-align: right;\n",
       "    }\n",
       "</style>\n",
       "<table border=\"1\" class=\"dataframe\">\n",
       "  <thead>\n",
       "    <tr style=\"text-align: right;\">\n",
       "      <th></th>\n",
       "      <th>id</th>\n",
       "      <th>belongs_to_collection</th>\n",
       "      <th>budget</th>\n",
       "      <th>genres</th>\n",
       "      <th>homepage</th>\n",
       "      <th>imdb_id</th>\n",
       "      <th>original_language</th>\n",
       "      <th>original_title</th>\n",
       "      <th>overview</th>\n",
       "      <th>popularity</th>\n",
       "      <th>...</th>\n",
       "      <th>release_date</th>\n",
       "      <th>runtime</th>\n",
       "      <th>spoken_languages</th>\n",
       "      <th>status</th>\n",
       "      <th>tagline</th>\n",
       "      <th>title</th>\n",
       "      <th>Keywords</th>\n",
       "      <th>cast</th>\n",
       "      <th>crew</th>\n",
       "      <th>revenue</th>\n",
       "    </tr>\n",
       "  </thead>\n",
       "  <tbody>\n",
       "    <tr>\n",
       "      <th>0</th>\n",
       "      <td>1</td>\n",
       "      <td>[{'id': 313576, 'name': 'Hot Tub Time Machine ...</td>\n",
       "      <td>14000000</td>\n",
       "      <td>[{'id': 35, 'name': 'Comedy'}]</td>\n",
       "      <td>NaN</td>\n",
       "      <td>tt2637294</td>\n",
       "      <td>en</td>\n",
       "      <td>Hot Tub Time Machine 2</td>\n",
       "      <td>When Lou, who has become the \"father of the In...</td>\n",
       "      <td>6.575393</td>\n",
       "      <td>...</td>\n",
       "      <td>2/20/15</td>\n",
       "      <td>93.0</td>\n",
       "      <td>[{'iso_639_1': 'en', 'name': 'English'}]</td>\n",
       "      <td>Released</td>\n",
       "      <td>The Laws of Space and Time are About to be Vio...</td>\n",
       "      <td>Hot Tub Time Machine 2</td>\n",
       "      <td>[{'id': 4379, 'name': 'time travel'}, {'id': 9...</td>\n",
       "      <td>[{'cast_id': 4, 'character': 'Lou', 'credit_id...</td>\n",
       "      <td>[{'credit_id': '59ac067c92514107af02c8c8', 'de...</td>\n",
       "      <td>12314651</td>\n",
       "    </tr>\n",
       "    <tr>\n",
       "      <th>1</th>\n",
       "      <td>2</td>\n",
       "      <td>[{'id': 107674, 'name': 'The Princess Diaries ...</td>\n",
       "      <td>40000000</td>\n",
       "      <td>[{'id': 35, 'name': 'Comedy'}, {'id': 18, 'nam...</td>\n",
       "      <td>NaN</td>\n",
       "      <td>tt0368933</td>\n",
       "      <td>en</td>\n",
       "      <td>The Princess Diaries 2: Royal Engagement</td>\n",
       "      <td>Mia Thermopolis is now a college graduate and ...</td>\n",
       "      <td>8.248895</td>\n",
       "      <td>...</td>\n",
       "      <td>8/6/04</td>\n",
       "      <td>113.0</td>\n",
       "      <td>[{'iso_639_1': 'en', 'name': 'English'}]</td>\n",
       "      <td>Released</td>\n",
       "      <td>It can take a lifetime to find true love; she'...</td>\n",
       "      <td>The Princess Diaries 2: Royal Engagement</td>\n",
       "      <td>[{'id': 2505, 'name': 'coronation'}, {'id': 42...</td>\n",
       "      <td>[{'cast_id': 1, 'character': 'Mia Thermopolis'...</td>\n",
       "      <td>[{'credit_id': '52fe43fe9251416c7502563d', 'de...</td>\n",
       "      <td>95149435</td>\n",
       "    </tr>\n",
       "    <tr>\n",
       "      <th>2</th>\n",
       "      <td>3</td>\n",
       "      <td>{}</td>\n",
       "      <td>3300000</td>\n",
       "      <td>[{'id': 18, 'name': 'Drama'}]</td>\n",
       "      <td>http://sonyclassics.com/whiplash/</td>\n",
       "      <td>tt2582802</td>\n",
       "      <td>en</td>\n",
       "      <td>Whiplash</td>\n",
       "      <td>Under the direction of a ruthless instructor, ...</td>\n",
       "      <td>64.299990</td>\n",
       "      <td>...</td>\n",
       "      <td>10/10/14</td>\n",
       "      <td>105.0</td>\n",
       "      <td>[{'iso_639_1': 'en', 'name': 'English'}]</td>\n",
       "      <td>Released</td>\n",
       "      <td>The road to greatness can take you to the edge.</td>\n",
       "      <td>Whiplash</td>\n",
       "      <td>[{'id': 1416, 'name': 'jazz'}, {'id': 1523, 'n...</td>\n",
       "      <td>[{'cast_id': 5, 'character': 'Andrew Neimann',...</td>\n",
       "      <td>[{'credit_id': '54d5356ec3a3683ba0000039', 'de...</td>\n",
       "      <td>13092000</td>\n",
       "    </tr>\n",
       "    <tr>\n",
       "      <th>3</th>\n",
       "      <td>4</td>\n",
       "      <td>{}</td>\n",
       "      <td>1200000</td>\n",
       "      <td>[{'id': 53, 'name': 'Thriller'}, {'id': 18, 'n...</td>\n",
       "      <td>http://kahaanithefilm.com/</td>\n",
       "      <td>tt1821480</td>\n",
       "      <td>hi</td>\n",
       "      <td>Kahaani</td>\n",
       "      <td>Vidya Bagchi (Vidya Balan) arrives in Kolkata ...</td>\n",
       "      <td>3.174936</td>\n",
       "      <td>...</td>\n",
       "      <td>3/9/12</td>\n",
       "      <td>122.0</td>\n",
       "      <td>[{'iso_639_1': 'en', 'name': 'English'}, {'iso...</td>\n",
       "      <td>Released</td>\n",
       "      <td>NaN</td>\n",
       "      <td>Kahaani</td>\n",
       "      <td>[{'id': 10092, 'name': 'mystery'}, {'id': 1054...</td>\n",
       "      <td>[{'cast_id': 1, 'character': 'Vidya Bagchi', '...</td>\n",
       "      <td>[{'credit_id': '52fe48779251416c9108d6eb', 'de...</td>\n",
       "      <td>16000000</td>\n",
       "    </tr>\n",
       "    <tr>\n",
       "      <th>4</th>\n",
       "      <td>5</td>\n",
       "      <td>{}</td>\n",
       "      <td>0</td>\n",
       "      <td>[{'id': 28, 'name': 'Action'}, {'id': 53, 'nam...</td>\n",
       "      <td>NaN</td>\n",
       "      <td>tt1380152</td>\n",
       "      <td>ko</td>\n",
       "      <td>마린보이</td>\n",
       "      <td>Marine Boy is the story of a former national s...</td>\n",
       "      <td>1.148070</td>\n",
       "      <td>...</td>\n",
       "      <td>2/5/09</td>\n",
       "      <td>118.0</td>\n",
       "      <td>[{'iso_639_1': 'ko', 'name': '한국어/조선말'}]</td>\n",
       "      <td>Released</td>\n",
       "      <td>NaN</td>\n",
       "      <td>Marine Boy</td>\n",
       "      <td>{}</td>\n",
       "      <td>[{'cast_id': 3, 'character': 'Chun-soo', 'cred...</td>\n",
       "      <td>[{'credit_id': '52fe464b9251416c75073b43', 'de...</td>\n",
       "      <td>3923970</td>\n",
       "    </tr>\n",
       "  </tbody>\n",
       "</table>\n",
       "<p>5 rows × 23 columns</p>\n",
       "</div>"
      ],
      "text/plain": [
       "   id                              belongs_to_collection    budget  \\\n",
       "0   1  [{'id': 313576, 'name': 'Hot Tub Time Machine ...  14000000   \n",
       "1   2  [{'id': 107674, 'name': 'The Princess Diaries ...  40000000   \n",
       "2   3                                                 {}   3300000   \n",
       "3   4                                                 {}   1200000   \n",
       "4   5                                                 {}         0   \n",
       "\n",
       "                                              genres  \\\n",
       "0                     [{'id': 35, 'name': 'Comedy'}]   \n",
       "1  [{'id': 35, 'name': 'Comedy'}, {'id': 18, 'nam...   \n",
       "2                      [{'id': 18, 'name': 'Drama'}]   \n",
       "3  [{'id': 53, 'name': 'Thriller'}, {'id': 18, 'n...   \n",
       "4  [{'id': 28, 'name': 'Action'}, {'id': 53, 'nam...   \n",
       "\n",
       "                            homepage    imdb_id original_language  \\\n",
       "0                                NaN  tt2637294                en   \n",
       "1                                NaN  tt0368933                en   \n",
       "2  http://sonyclassics.com/whiplash/  tt2582802                en   \n",
       "3         http://kahaanithefilm.com/  tt1821480                hi   \n",
       "4                                NaN  tt1380152                ko   \n",
       "\n",
       "                             original_title  \\\n",
       "0                    Hot Tub Time Machine 2   \n",
       "1  The Princess Diaries 2: Royal Engagement   \n",
       "2                                  Whiplash   \n",
       "3                                   Kahaani   \n",
       "4                                      마린보이   \n",
       "\n",
       "                                            overview  popularity    ...     \\\n",
       "0  When Lou, who has become the \"father of the In...    6.575393    ...      \n",
       "1  Mia Thermopolis is now a college graduate and ...    8.248895    ...      \n",
       "2  Under the direction of a ruthless instructor, ...   64.299990    ...      \n",
       "3  Vidya Bagchi (Vidya Balan) arrives in Kolkata ...    3.174936    ...      \n",
       "4  Marine Boy is the story of a former national s...    1.148070    ...      \n",
       "\n",
       "  release_date runtime                                   spoken_languages  \\\n",
       "0      2/20/15    93.0           [{'iso_639_1': 'en', 'name': 'English'}]   \n",
       "1       8/6/04   113.0           [{'iso_639_1': 'en', 'name': 'English'}]   \n",
       "2     10/10/14   105.0           [{'iso_639_1': 'en', 'name': 'English'}]   \n",
       "3       3/9/12   122.0  [{'iso_639_1': 'en', 'name': 'English'}, {'iso...   \n",
       "4       2/5/09   118.0           [{'iso_639_1': 'ko', 'name': '한국어/조선말'}]   \n",
       "\n",
       "     status                                            tagline  \\\n",
       "0  Released  The Laws of Space and Time are About to be Vio...   \n",
       "1  Released  It can take a lifetime to find true love; she'...   \n",
       "2  Released    The road to greatness can take you to the edge.   \n",
       "3  Released                                                NaN   \n",
       "4  Released                                                NaN   \n",
       "\n",
       "                                      title  \\\n",
       "0                    Hot Tub Time Machine 2   \n",
       "1  The Princess Diaries 2: Royal Engagement   \n",
       "2                                  Whiplash   \n",
       "3                                   Kahaani   \n",
       "4                                Marine Boy   \n",
       "\n",
       "                                            Keywords  \\\n",
       "0  [{'id': 4379, 'name': 'time travel'}, {'id': 9...   \n",
       "1  [{'id': 2505, 'name': 'coronation'}, {'id': 42...   \n",
       "2  [{'id': 1416, 'name': 'jazz'}, {'id': 1523, 'n...   \n",
       "3  [{'id': 10092, 'name': 'mystery'}, {'id': 1054...   \n",
       "4                                                 {}   \n",
       "\n",
       "                                                cast  \\\n",
       "0  [{'cast_id': 4, 'character': 'Lou', 'credit_id...   \n",
       "1  [{'cast_id': 1, 'character': 'Mia Thermopolis'...   \n",
       "2  [{'cast_id': 5, 'character': 'Andrew Neimann',...   \n",
       "3  [{'cast_id': 1, 'character': 'Vidya Bagchi', '...   \n",
       "4  [{'cast_id': 3, 'character': 'Chun-soo', 'cred...   \n",
       "\n",
       "                                                crew   revenue  \n",
       "0  [{'credit_id': '59ac067c92514107af02c8c8', 'de...  12314651  \n",
       "1  [{'credit_id': '52fe43fe9251416c7502563d', 'de...  95149435  \n",
       "2  [{'credit_id': '54d5356ec3a3683ba0000039', 'de...  13092000  \n",
       "3  [{'credit_id': '52fe48779251416c9108d6eb', 'de...  16000000  \n",
       "4  [{'credit_id': '52fe464b9251416c75073b43', 'de...   3923970  \n",
       "\n",
       "[5 rows x 23 columns]"
      ]
     },
     "execution_count": 82,
     "metadata": {},
     "output_type": "execute_result"
    }
   ],
   "source": [
    " # read in data\n",
    "train = pd.read_csv(\"train.csv\", delimiter=',')\n",
    "test = pd.read_csv(\"test.csv\", delimiter=',')\n",
    "\n",
    "na_headers = ['belongs_to_collection', 'genres', 'spoken_languages', 'production_companies', 'production_countries', 'Keywords', 'cast', 'crew']\n",
    "\n",
    "def text_to_dict(data, cols):\n",
    "    for column in cols:\n",
    "        data[column] = data[column].apply(lambda x: {} if pd.isna(x) else literal_eval(x) )\n",
    "    return data\n",
    "\n",
    "train = text_to_dict(train, na_headers)\n",
    "test = text_to_dict(test, na_headers)\n",
    "\n",
    "train.head()"
   ]
  },
  {
   "cell_type": "code",
   "execution_count": 83,
   "metadata": {},
   "outputs": [
    {
     "name": "stdout",
     "output_type": "stream",
     "text": [
      "(3000, 23)\n",
      "(4398, 22)\n"
     ]
    }
   ],
   "source": [
    "# how many columns and rows do both files have\n",
    "print(train.shape)\n",
    "print(test.shape)"
   ]
  },
  {
   "cell_type": "code",
   "execution_count": 58,
   "metadata": {},
   "outputs": [
    {
     "name": "stdout",
     "output_type": "stream",
     "text": [
      "count    3.000000e+03\n",
      "mean     6.672585e+07\n",
      "std      1.375323e+08\n",
      "min      1.000000e+00\n",
      "25%      2.379808e+06\n",
      "50%      1.680707e+07\n",
      "75%      6.891920e+07\n",
      "max      1.519558e+09\n",
      "Name: revenue, dtype: float64\n",
      "0\n"
     ]
    },
    {
     "data": {
      "text/plain": [
       "(-10000000, 1000000000)"
      ]
     },
     "execution_count": 58,
     "metadata": {},
     "output_type": "execute_result"
    },
    {
     "data": {
      "image/png": "[encoded data removed]",
      "text/plain": [
       "<Figure size 432x288 with 1 Axes>"
      ]
     },
     "metadata": {
      "needs_background": "light"
     },
     "output_type": "display_data"
    }
   ],
   "source": [
    "# get descriptive statistics for revenue variable\n",
    "print(train['revenue'].describe())\n",
    "print(train['revenue'].isnull().sum().sum())\n",
    "\n",
    "plt.hist(data = train, x = 'revenue', bins = 80)\n",
    "plt.xlim(-10000000,1000000000)"
   ]
  },
  {
   "cell_type": "code",
   "execution_count": 54,
   "metadata": {},
   "outputs": [
    {
     "name": "stdout",
     "output_type": "stream",
     "text": [
      "count    3000.000000\n",
      "mean        8.463274\n",
      "std        12.104000\n",
      "min         0.000001\n",
      "25%         4.018053\n",
      "50%         7.374861\n",
      "75%        10.890983\n",
      "max       294.337037\n",
      "Name: popularity, dtype: float64\n"
     ]
    },
    {
     "data": {
      "text/plain": [
       "(-1, 100)"
      ]
     },
     "execution_count": 54,
     "metadata": {},
     "output_type": "execute_result"
    },
    {
     "data": {
      "image/png": "[encoded data removed]",
      "text/plain": [
       "<Figure size 432x288 with 1 Axes>"
      ]
     },
     "metadata": {
      "needs_background": "light"
     },
     "output_type": "display_data"
    }
   ],
   "source": [
    "# analysis of the popularity variable\n",
    "print(train['popularity'].describe())\n",
    "plt.hist(data = train, x = 'popularity', bins = 100)\n",
    "plt.xlim(-1,100)"
   ]
  },
  {
   "cell_type": "code",
   "execution_count": 89,
   "metadata": {},
   "outputs": [],
   "source": [
    "# breakup the dictionary variables\n",
    "def list_breakdown(data, header):\n",
    "    all_list = []\n",
    "    for row in data[header]:\n",
    "        if row:\n",
    "            for k, v in row[0].items():\n",
    "                if k == 'name':\n",
    "                    if v not in all_list:\n",
    "                        all_list.append(v)\n",
    "    return all_list\n",
    "                       "
   ]
  },
  {
   "cell_type": "code",
   "execution_count": 91,
   "metadata": {},
   "outputs": [
    {
     "name": "stdout",
     "output_type": "stream",
     "text": [
      "['A. R. Rahman', 'A. V. M. Saravanan', 'A.R. Murugadoss', 'Aamir Khan', 'Aaron Ginsburg ', 'Aaron Katz', 'Aaron Norris', 'Aascar Ravichandran', 'Abbas Kiarostami', 'Abderrahmane Sissako', 'Abrid Shine', 'Adam Fields', 'Adam Greenberg', 'Adam Kane', 'Adam McKay', 'Adam Nielsen', 'Adam Rapp', 'Adam Resnick', 'Adam Rifkin', 'Adam Sandler', 'Adam Scott', 'Adam Sztykiel', 'Adam Wingard', 'Aditya Chopra', 'Adrian Gorton', 'Agn√®s Guillemot', 'Akira Kurosawa', 'Akiva Goldsman', 'Aksinya Gog', 'Alain Chabat', 'Alain Goldman', 'Alain Sarde', 'Alan C. Blomquist', 'Alan Caillou', 'Alan Gibson', 'Alan Heim', 'Alan Myerson', 'Alan Parker', 'Alan Shapiro', 'Alan Silvestri', 'Alastair Fothergill', 'Albert S. Ruddy', 'Alberto Iglesias', 'Alberto Rodr√≠guez', 'Alejandro Gonz√°lez I√±√°rritu', 'Aleksandr Barshak', 'Aleksandr Chubaryan', 'Aleksandr Mindadze', 'Aleksandr Proshkin', 'Aleksandr Shevtsov', 'Aleksei Sidorov', 'Aleksey Balabanov', 'Aleksey Mizgiryov', 'Aleksi M√§kel√§', 'Alessandro Genovesi', 'Alex Cox', 'Alex Garland', 'Alex Gibney', 'Alex Kendrick', 'Alex Proyas', 'Alexander Berner', 'Alexander Courage', 'Alexander Korda', 'Alexander Payne', 'Alexandre Desplat', 'Alexandre Mallet-Guy', 'Alfred Hitchcock', 'Alicia Scherson', 'Aline Brosh McKenna', 'Alison Klayman', 'Alki David', 'Allan Moyle', 'Allen Daviau', 'Amanda Mackey', 'Amy Heckerling', 'Anatoly Maksimov', 'Andrea Arnold', 'Andrea Eastman', 'Andrea Guerra', 'Andrea Mertens', 'Andreas Schreitm√ºller', 'Andreas Wodraschke', 'Andrei Konchalovsky', 'Andrew Bujalski', 'Andrew Fleming', 'Andrew Jarecki', 'Andrew Lesnie', 'Andrew Macdonald', 'Andrew Morahan', 'Andrew Neel', 'Andrew Niccol', 'Andrew Stanton', 'Andrew Starke', 'Andrzej Bartkowiak', 'Andrzej Sekula', 'Andrzej Wajda', 'Andr√© De Toth', 'Andy Hamilton', 'Andy Tennant', 'Andy Wolk', 'Ang Lee', 'Angela Workman', 'Angelo P. Graham', 'Angie Lam', 'Anil Mehta', 'Ann Brashares', 'Ann Roth', 'Anna Anthony', 'Anna Pinnock', 'Annabel Jankel', 'Anne Dudley', 'Anne Fletcher', 'Anne McCarthy', 'Anne Pritchard', 'Anne Rice', 'Anne V. Coates', 'Anne Walker-McBay', 'Anthony Bregman', 'Anthony Hickox', 'Anthony Perkins', 'Anthony Waller', 'Antoine Fuqua', 'Antoinette Boulat', 'Antonia Bird', 'Antonin Martin-Hilbert', 'Antonio Ram√≠rez de Loaysa', 'Anupam Roy', 'Anurag Kashyap', 'Ari Sandel', 'Arie Posin', 'Ariel Vromen', 'Arkadiy Strugatskiy', 'Armand Mastroianni', 'Armin Ganz', 'Arne Olsen', 'Arnon Milchan', 'Art Linson', 'Arthur C. Clarke', 'Arthur Coburn', 'Arthur Edeson', 'Arthur Freed', 'Arthur Hiller', 'Arthur Schmidt', 'Arthur Wong', 'Ashish R. Mohan', 'Ashwani Dhir', 'Astrid Lindgren', 'Ate de Jong', 'Atom Egoyan', 'Aton Soumache', 'Avi Arad', 'Avy Kaufman', 'A√Øssa Djabri', 'B Unnikrishnan', 'Babloo Chakravorty', 'Bae Hyeong-jun', 'Baik', 'Baltasar Korm√°kur', 'Barbara Kopple', 'Barbet Schroeder', 'Barnaby Thompson', 'Barrie M. Osborne', 'Barry Ackroyd', 'Barry Beckerman', 'Barry Levinson', 'Basil Poledouris', 'Ben Affleck', 'Ben Bolt', 'Ben Gluck', 'Ben Hecht', 'Ben Stassen', 'Ben Stiller', 'Ben Wheatley', 'Ben Younger', 'Benjamin Wallfisch', 'Beno√Æt Debie', 'Bernard Herrmann', 'Bernard Rose', 'Bernardo Bertolucci', 'Bernd Eichinger', 'Bert Bates', 'Betty E. Box', 'Bharathan', 'Bill Butler', 'Bill Condon', 'Bill Conti', 'Bill Corso', 'Bill Fishman', 'Bill Gerber', 'Bill Johnson', 'Bill Kroyer', 'Bill L. Norton', 'Bill Murphy', 'Bill Pope', 'Billy Bob Thornton', 'Billy Corben', 'Billy Gardell', 'Billy Hopkins', 'Billy Weber', 'Billy Wilder', 'Bina Daigeler', 'Blake Edwards', 'Bo Derek', 'Boaz Yakin', 'Bob Balaban', 'Bob Clark', 'Bob Fosse', 'Bob Kensinger', 'Bob Peterson', 'Bob Weinstein', 'Bob Wyman', 'Bobby Cohen', 'Bobby Farrelly', 'Bong Joon-ho', 'Bonnie Timmermann', 'Bora Daƒütekin', 'Boris Leven', 'Brad Anderson', 'Brad Krevoy', 'Brad Peyton', 'Brad Pitt', 'Brad Silberling', 'Brad Wyman', 'Bram Stoker', 'Brenda Chapman', 'Brendan Malloy', 'Bret Easton Ellis', 'Brett Haley', 'Brett Leonard', 'Brett Ratner', 'Brian Casentini', 'Brian De Palma', 'Brian Fee', 'Brian G. Hutton', 'Brian Grazer', 'Brian Henson', 'Brian J. Breheny', 'Brian Knappenberger', 'Brian Koppelman', 'Brian Morris', 'Brian Tufano', 'Brillante Mendoza', 'Bruce Beresford', 'Bruce Berman', 'Bruce Campbell', 'Bruce Cohen', 'Bruce Davey', 'Bruce LaBruce', 'Bruce Malmuth', 'Bruce Surtees', 'Bruno Barreto', 'Bruno Delbonnel', 'Bruno Dumont', 'Bruton Jones', 'Bud Yorkin', 'Byron Howard', 'B√©la Tarr', 'C. Jay Cox', 'Cameron Crowe', 'Carl Franklin', 'Carl Reiner', 'Carla Hool', 'Carlo Simi', 'Carlos Reygadas', 'Carlos Saldanha', 'Carol Sobieski', 'Carole Mondello', 'Caroline Bottaro', 'Carrie Stewart', 'Carroll Ballard', 'Carter Burwell', 'Cary Elwes', 'Cassandra Kulukundis', 'Cathy Sandrich', 'Celestia Fox', 'Celine Danhier', 'Chad Fischer', 'Charles B. Pierce', 'Charles Binam√©', 'Charles Bukowski', 'Charles D. Hall', 'Charles Graffeo', 'Charles Herman-Wurmfeld', 'Charles Jarrott', 'Charles Lang', 'Charles Martin Smith', 'Charles Minsky', 'Charles Rosen', 'Charles Rosher', 'Charles Roven', 'Charles Stone III', 'Charlie Chaplin', 'Charlie Kaufman', 'Charlize Theron', 'Cheech Marin', 'Chester Himes', 'Chris Bender', 'Chris Blum', 'Chris Claremont', 'Chris Columbus', 'Chris Gill', 'Chris Gorak', 'Chris Kentis', 'Chris Lebenzon', 'Chris Matheson', 'Chris Menges', 'Chris Nahon', 'Chris Rock', 'Chris Wedge', 'Christian Berger', 'Christian Charles', 'Christian Duguay', 'Christian Kaplan', 'Christian Petzold', 'Christian Sebaldt', 'Christine Vachon', 'Christophe Gans', 'Christophe Rossignon', 'Christophe Van Rompaey', 'Christopher Allen Nelson', 'Christopher Boyes', 'Christopher Coppola', 'Christopher Crowe', 'Christopher Doyle', 'Christopher Figg', 'Christopher Franke', 'Christopher Greenbury', 'Christopher Guest', 'Christopher L. Stone', 'Christopher McQuarrie', 'Christopher Nolan', 'Christopher Scott Cherot', 'Christopher Spelman', 'Christopher Yost', 'Christopher Young', 'Chryss Hionis', 'Chuck Russell', 'Chun Tin-Nam', 'Chung Yoon-chul', 'Cindy Meehl', 'Claude Chabrol', 'Claudia Llosa', 'Claudie Ossard', 'Claudio Simonetti', 'Clay A. Griffith', 'Clay Boss', 'Clayton Townsend', 'Cliff Martinez', 'Clint Eastwood', 'Clint Mansell', 'Clive Donner', 'Clyde Geronimi', 'Cl√©ment Michel', 'Colin Strause', 'Colleen Atwood', 'Collodi', 'Conrad L. Hall', 'Constance Marks', 'Corey Yuen Kwai', 'Corneliu Porumboiu', 'Costa-Gavras', 'Craig Baumgarten', 'Craig Clyde', 'Craig Johnson', 'Craig R. Baxley', 'Craig Wood', 'Craig Zobel', 'Creighton Rothenberger', 'Cristian Mungiu', 'Crys Forsyth-Smith', 'Crystal Moselle', 'Curtiss Clayton', 'C√©dric Klapisch', 'C√©line Sciamma', 'DJ Pooh', 'Daisy von Scherler Mayer', 'Dallas Puett', 'Damien Chazelle', 'Dan Bradley', 'Dan Jinks', 'Dan St. Pierre', 'Dan Weil', 'Dana Olsen', 'Daniel Espinosa', 'Daniel Myrick', 'Daniel Petrie', 'Daniel Sackheim', 'Danny Boyle', 'Danny Cannon', 'Danny DeVito', 'Danny Elfman', 'Danny Huston', 'Danny Steinmann', 'Dario Marianelli', 'Dariusz Wolski', 'Darrell James Roodt', 'Darren Aronofsky', 'Darren Genet', 'Darren Lemke ', 'Darren Lynn Bousman', 'Dave Green', 'David Bowers', 'David Bruckner', 'David Carson', 'David Cronenberg', 'David Drury', 'David F. Sandberg', 'David Fincher', 'David Gelb', 'David Giler', 'David Gleeson', 'David Guion', 'David J. Bomba', 'David J. Thompson', 'David Johnson', 'David Julyan', 'David Koepp', 'David L. Snyder', 'David Lazan', 'David Lean', 'David Lickley', 'David Linde', 'David Loughery', 'David Lynch', 'David M. Rosenthal', 'David M. Thompson', 'David Mackenzie', 'David Mamet', 'David Mirkin', 'David N. Weiss', 'David Newman', 'David R. Ellis', 'David Raynr', 'David S. Dranitzke', 'David S. Goyer', 'David S. Ward', 'David Seltzer', 'David Silverman', 'David Tattersall', 'David Torn', 'David Trueba', 'David Twohy', 'David Weisbart', 'David Wnendt', 'Davis Guggenheim', 'Dean Cundey', 'Dean Israelite', 'Dean R. Koontz', 'Dean Semler', 'Dean Smith', 'Deborah Aquila', 'Deborah Hopper', 'Deborah Scranton', 'Debra Zane', 'Deepak Nayar', 'Del Shores', 'Denise Chamian', 'Denise Di Novi', 'Dennis Dugan', 'Dennis Feldman', 'Dennis Gassner', 'Dennis Hopper', 'Denys Arcand', 'Denzel Washington', 'Derek Cianfrance', 'Des Hamilton', 'Destin Cretton', 'Deva', 'Diana Cilliers', 'Diane English', 'Dianne Crittenden', 'Dick Randall', 'Dick Van Dyke', 'Dimitri Tiomkin', 'Dino De Laurentiis', 'Dito Montiel', 'Dmitriy Kiselev', 'Dmitriy Suvorov', 'Dode B. Levenson', 'Dody Dorn', 'Dominic Sena', 'Dominique Othenin-Girard', 'Don Burgess', 'Don Coscarelli', 'Don DaGradi', 'Donald E. Thorin', 'Donald McAlpine', 'Donald P. Borchers', 'Donald Petrie', 'Donna Isaacson', 'Doug J. Meerdink', 'Doug Liman', 'Doug Sweetland', 'Douglas Aibel', 'Douglas Day Stewart', 'Drake Doremus', 'Drew Barrymore', 'Duke Johnson', 'Dun Tan', 'Duncan Henderson', 'Duncan Scott', 'Dwight H. Little', 'Dylan Goss', 'Ebbe Roe Smith', 'Ed Decter', 'Ed Harris', 'Ed Marx', 'Ed Shearmur', 'Ed Verreaux', 'Eddie Murphy', 'Edgar G. Ulmer', 'Edgar Wright', 'Edmund Goulding', 'Eduardo Castro', 'Eduardo S√°nchez', 'Edward Burns', 'Edward G. Boyle', 'Edward Lachman', 'Edward R. Pressman', 'Edward Tise', 'Edward Zwick', 'Eleanor Coppola', 'Elena Soarez', 'Eli Roth', 'Elia Kazan', 'Elizabeth Chai Vasarhelyi', 'Ellen Chenoweth', 'Ellen Kuras', 'Ellen Lewis', 'Elmo Williams', 'Elmore Leonard', 'Eloy de la Iglesia', 'Els Vandevorst', 'Emile Ardolino', 'Emile Sherman', 'Emily Blunt', 'Emmanuel Lubezki', 'Ennio Morricone', 'Enzo G. Castellari', 'Eran Creevy', 'Eric Alan Edwards', 'Eric Blakeney', 'Eric Clapton', 'Eric Darnell', 'Eric Heumann', 'Eric Newman', 'Eric Nicholas', 'Eric Roth', 'Erica Lee', 'Erich von Stroheim', 'Ericson Core', 'Erik Gandini', 'Erik Van Looy', 'Ernest Thompson', 'Ernst Lubitsch', 'Errol Morris', 'Esther Garc√≠a', 'Ethan Spaulding', 'Eugene Gearty', 'Evan Glodell', 'Evan Spiliotopoulos', 'Eve Battaglia', 'F. Gary Gray', 'Fatih Akin', 'Fede Alvarez', 'Fernando Meirelles', 'Ferris Webster', 'Ferzan Ozpetek', 'Filipp Yankovsky', 'Fina Torres', 'Fiona Weir', 'Firoz A. Nadiadwala', 'Flavio Mart√≠nez Labiano', 'Forest Whitaker', 'Franc. Reyes', 'Francesco Bruni', 'Francine Maisler', 'Francine McDougall', 'Francis Ford Coppola', 'Francis Veber', 'Franco Ferrini', 'Franco Solinas', 'Frank Coraci', 'Frank Darabont', 'Frank Marshall', 'Frank Miller', 'Frank Oz', 'Frank Tashlin', 'Frank Whaley', 'Franz Planer', 'Franz Waxman', 'Fran√ßois Dupeyron', 'Fran√ßois G√©digier', 'Fran√ßois Truffaut', 'Fran√ßoise Bonnot', 'Fran√ßoise Menidrey', 'Fred C. Blau Jr.', 'Fred Roos', 'Fred Savage', 'Fred Schepisi', 'Fritz Kiersch', 'Fritz Lang', 'Gael Garc√≠a Bernal', 'Gail Dolgin', 'Gail Stevens', 'Gale Anne Hurd', 'Galt Niederhoffer', 'Gao Xiaosong', 'Gareth Evans', 'Garry Goodrow', 'Garry Marshall', 'Gary Barber', 'Gary Chapman', 'Gary Frutkoff', 'Gary Goddard', 'Gary Goldman', 'Gary Gulman', 'Gary Levinsohn', 'Gary Lucchesi', 'Gary Ross', 'Gary Rydstrom', 'Gary Sherman', 'Gary Trousdale', 'Gavin Hood', 'Gene Kelly', 'Gene Wilder', 'Genevi√®ve Robert', 'Geoff Moore', 'Geoff Murphy', 'Geoffrey Richman', 'Geoffrey Unsworth', 'George A. Romero', 'George Barnes', 'George Bowers', 'George Butler', 'George Clooney', 'George Cukor', 'George Fenton', 'George Gallo', 'George Haas', 'George Hively', 'George Lucas', 'George Marshall', 'George P. Cosmatos', 'George R. Nelson', 'George Roy Hill', 'George S. Clinton', 'George Tillman, Jr.', 'Georges Arnaud', 'Georges Auric', 'Gerald B. Greenberg', 'Gerald R. Molen', 'Gerard Soeteman', 'Gerard Stembridge', 'Gerhard Meixner', 'Gerry Robert Byrne', 'Giacomo Ciarrapico', 'Gilbert Taylor', 'Giles Nuttgens', 'Gillies MacKinnon', 'Giulio Manfredonia', 'Giuseppe Capotondi', 'Glen Scantlebury', 'Glenn Gordon Caron', 'Glenn Taranto', 'Glenn Williamson', 'Godfrey Reggio', 'Goldie Hawn', 'Gore Verbinski', 'Graeme Revell', 'Graham Greene', 'Greg Berlanti', 'Greg Brenman', 'Greg Gardiner', 'Greg Mottola', 'Gregg Araki', 'Gregg Toland', 'Gregory Nava', 'Gregory Plotkin', 'Gregory Widen', 'Gretchen Rennell', 'Griffin Dunne', 'Guillermo Calder√≥n', 'Guillermo del Toro', 'Guinevere Turner', 'Gus Van Sant', 'Gustavo Santaolalla', 'Guy Green', 'Guy Hamilton', 'Guy Ritchie', 'Gwen Wetzler', 'Haile Gerima', 'Hal Ashby', 'Hal Gausman', 'Hal Needham', 'Ham Tran', 'Hampton Fancher', 'Han Sanping', 'Hans Canosa', 'Hans Zimmer', 'Harald Zwart', 'Hari', 'Harold Becker', 'Harold Cronk', 'Harold Faltermeyer', 'Harold Ramis', 'Harry Cohen', 'Harry Elfont', 'Harry Manfredini', 'Harry Nilsson', 'Harry Ralston', 'Harry Shearer', 'Harry Winer', 'Haruyo Kanesaku', 'Harvey Weinstein', 'Hayao Miyazaki', 'Heather Hach', 'Heidi Levitt', 'Heike Brandstatter', 'Helen Fielding', 'Henri Deca√´', 'Henri-Georges Clouzot', 'Henrik Ruben Genz', 'Henry Alex Rubin', 'Henry Bumstead', 'Henry Grace', 'Henry Joost', 'Henry King', 'Henry Koster', 'Henry Mancini', 'Henry Selick', 'Henry Winterstern', 'Herbert Coleman', 'Herbert Ross', 'Herv√© de Luze', 'Hideaki Anno', 'Hideo Nakata', 'Hilary Duff', 'Himanshu Sharma', 'Himman Dhamija', 'Hirokazu Koreeda', 'Hisao Shirai', 'Holly Hunter', 'Hong Sang-soo', 'Horton Foote', 'Hossein Amini', 'Howard Deutch', 'Howard Feuer', 'Howard Shore', 'Howard Storm', 'Howard W. Koch', 'Howard Zieff', 'Hu Jian Qiang', 'Hue Rhodes', 'Hugh Jackman', 'Hugh Johnson', 'Hugh M. Hefner', 'Hugh Wilson', 'Humberto Cornejo', 'Ian Fleming', 'Ian Jones', 'Ice Cube', 'Ice-T', 'Idris Elba', 'Ilisa Barbash', 'Ilya Maksimov', 'Imor Hermann', 'Indra Kumar', 'Ines Mongil-Echandi', 'Ingmar Bergman', 'Inna Evlannikova', 'Irene Lamb', 'Irving Thalberg', 'Isao Takahata', 'Ivan Reitman', 'Ivan Vyrypaev', 'J. Miles Dale', 'Jack Fisk', 'Jack Green', 'Jack Kirby', 'Jack Nicholson', 'Jack Sholder', 'Jack Smight', 'Jack Solomon', 'Jack T. Collis', 'Jacob Groth', 'Jacob Kornbluth', 'Jacques Bufnoir', 'Jacques Tati', 'Jake Gyllenhaal', 'Jaki Brown', 'James Basevi', 'James Cameron', 'James DeMonaco', 'James Fargo', 'James Foley', 'James Frawley', 'James G. Robinson', 'James Griffith', 'James Horner', 'James Ivory', 'James Kent', 'James L. Brooks', 'James L. Venable', 'James Longley', 'James Mangold', 'James Marsh', 'James Newton Howard', 'James Ponsoldt', 'James Russo', 'James Troutman', 'James Wan', 'Jamie Babbit', 'Jan Ole Gerster', 'Jan Verheyen', 'Jan de Bont', 'Jane Campion', 'Jane Feinberg', 'Jane Hamsher', 'Janeen Damian', 'Janet Hirshenson', 'Jang Jin', 'Jared Cohn', 'Jared Leto', 'Jasna Stefanovic', 'Jason Bateman', 'Jason Blum', 'Jason Moore', 'Jason Reitman', 'Jason Ward', 'Jaume Balaguer√≥', 'Javier Aguirresarobe', 'Javier C√°rdenas', 'Jay Baruchel', 'Jay Chandrasekhar', 'Jay DiPietro', 'Jay Rabinowitz', 'Jay Roach', 'Jay Russell', 'Jean Burt Reilly', 'Jean-Baptiste Tard', 'Jean-Claude Carri√®re', 'Jean-Fran√ßois Pouliot', 'Jean-Pierre Jeunet', 'Jeanne McCarthy', 'Jeb Stuart', 'Jeff Bleckner', 'Jeff Burr', 'Jeff Cardoni', 'Jeff Celentano', 'Jeff Freeman', 'Jeff Gourson', 'Jeff Jur', 'Jeff Levine', 'Jeff Mann', 'Jeff Nichols', 'Jeff Pollack', 'Jeff Stockwell', 'Jeff Wadlow', 'Jeffrey Blitz', 'Jeffrey Boam', 'Jeffrey Kurland', 'Jeffrey L. Kimball', 'Jeffrey M. Howard', 'Jehane Noujaim', 'Jennifer Chambers Lynch', 'Jennifer Todd', 'Jennifer Williams', 'Jeremiah S. Chechik', 'Jeremy Garelick', 'Jeremy Leven', 'Jeremy Pikser', 'Jeroen Krabb√©', 'Jerry Bruckheimer', 'Jerry Goldsmith', 'Jerry Paris', 'Jerry Weintraub', 'Jerry Zaks', 'Jerry Zucker', 'Jesse V. Johnson', 'Jessica Oreck', 'Jessica Tyler Segal', 'Jia Zhangke', 'Jill Bilcock', 'Jim Abrahams', 'Jim Clay', 'Jim Drake', 'Jim Gillespie', 'Jim Kouf', 'Jim McBride', 'Jim Sheridan', 'Jim Wynorski', 'Jimmy Iovine', 'Jimmy T. Murakami', 'Jina Jay', 'Jingming Guo', 'Joachim Trier', 'Joaqu√≠n Baca-Asay', 'Jodie Foster', 'Joe Hisaishi', 'Joe Pytka', 'Joe Roth', 'Joe Swanberg', 'Joe Wright', 'Joel Edgerton', 'Joel Goldsmith', 'Joel Schumacher', 'Joel Silver', 'Joel Zwick', 'Johan S√∂derqvist', 'Johanna Ray', \"John 'Bud' Cardos\", 'John A. Alonzo', 'John Badham', 'John Bailey', 'John Baker', 'John Barry', 'John Boorman', 'John Cameron', 'John Carpenter', 'John Curran', 'John Dahl', 'John Davis', 'John Debney', 'John Du Prez', 'John F. Link', 'John Flynn', 'John Frankenheimer', 'John Frazier', 'John G. Avildsen', 'John Glen', 'John Goldsmith', 'John Green', 'John Hubbard', 'John Huston', 'John J. Strauss', 'John Jay Moore', 'John Lafia', 'John Landis', 'John Lasseter', 'John M. Dwyer', 'John M. Jacobsen', 'John Mathieson', 'John McTiernan', 'John Meehan', 'John Milius', 'John Morris', 'John Murphy', 'John Ottman', 'John Papsidera', 'John Patrick Kelley', 'John Powell', 'John Ridley', 'John Sayles', 'John Scheinfeld', 'John Schlesinger', 'John Schwartzman', 'John Seale', 'John Sebastian', 'John Singleton', 'John Sloss', 'John Stainton', 'John Stockwell', 'John Sturges', 'John Toll', 'John Turturro', 'John Waters', 'John Wayne', 'John Williams', 'John Williamson', 'John Woo', 'Johnny Breedt', 'Jon Amiel', 'Jon Brion', 'Jon Cassar', 'Jon Gary Steele', 'Jon Gregory', 'Jon Peters', 'Jon Purdy', 'Jon Turteltaub', 'Jonathan Bruno', 'Jonathan Demme', 'Jonathan Finn', 'Jonathan Kesselman', 'Jonathan Levine', 'Jonathan Lynn', 'Jonathan Mostow', 'Jong-seok Yoon', 'Jordan Rubin', 'Jorge Guerricaechevarr√≠a', 'Josef Rusnak', 'Joseph L. Mankiewicz', 'Joseph Middleton', 'Joseph Ruben', 'Joseph Zito', 'Josh Braun', 'Joshua Zeman', 'Jos√© Luis Cuerda', 'Jos√© Padilha', 'Jos√© Salcedo', 'Jules Verne', 'Julian Schnabel', 'Julie Delpy', 'Julie Weiss', 'Juliet Taylor', 'Julio Fern√°ndez', 'Julio M√©dem', 'Jun Lana', 'Juno Mak', 'Just Jaeckin', 'Justin Barber', 'K. S. Ravikumar', 'Kara Lindstrom', 'Karan Johar', 'Karen Oganesyan', 'Karen Rea', 'Karl Freund', 'Karl Zwicky', 'Kathleen Kennedy', 'Kathrin Kr√ºckeberg', 'Kathryn Bigelow', 'Keanu Reeves', 'Keenen Ivory Wayans', 'Keishi Ohtomo', 'Keith Brian Burns', 'Kelly Cantley', 'Kelly Fremon Craig', 'Kelly Nyks', 'Ken Loach', 'Ken Russell', 'Kenji Kawai', 'Kenneth Branagh', 'Kenneth Johnson', 'Kenneth Utt', 'Kerry Barden', 'Kevin Bray', 'Kevin Costner', 'Kevin James', 'Kevin Jarre', 'Kevin Loader', 'Kevin Phipps', 'Kevin Rafferty', 'Kevin Smith', 'Kevin Spacey', 'Kevin Tenney', 'Kieth Merrill', 'Kim Barker', 'Kim Coleman', 'Kim Han-min', 'Kim Henkel', 'Kim Ki-duk', 'Kim Sinclair', 'Kim Tae-yong', 'Kimberly Peirce', 'Kirill Kuzin', 'Kirk Jones', 'Kiyoshi Kurosawa', 'Klaus Badelt', 'Koji Hashimoto', 'Konstantin Bronzit', 'Korn√©l Mundrucz√≥', 'Kristian Eidnes Andersen', 'Krzysztof Kie≈õlowski', 'Kunal Kohli', 'Kunihiko Yuyama', 'Kurt Neumann', 'K√¥ji End√¥', 'Laeta Kalogridis', 'Lalo Schifrin', 'Lana Wachowski', 'Lance Acord', 'Lance Brown', 'Lance Daly', 'Lance Hool', 'Larry Brezner', 'Larry J. Franco', 'Larry Karaszewski', 'Lasse Hallstr√∂m', 'Lasse √Öberg', 'Lauren Hrehovcik', 'Lauren Shuler Donner', 'Laurence Mark', 'Laurice Guillen', 'Lawrence A. Hubbs', 'Lawrence Bender', 'Lawrence G. Paull', 'Lawrence Gordon', 'Lawrence Kasdan', 'Lawrence Konner', 'Lee Tamahori', 'Lee Toland Krieger', 'Lee Whittaker', 'Leigh Janiak', 'Lena Dunham', 'Leo McCarey', 'Leo Tolstoy', 'Leon Corcos', 'Leon Narbey', 'Leonard Nimoy', 'Leonard Rosenman', 'Leos Carax', 'Les Mayfield', 'Lesley Walker', 'Leslie Dixon', 'Leslie Greif', 'Leslie Small', 'Leslie Zemeckis', 'Lewis Colick', 'Lewis Gilbert', 'Lewis Milestone', 'Lisa Beach', 'Lisa Fruchtman', 'Lisa Goldberg', 'Lisa J. Levine', 'Lisa Rinzler', 'Liz Mullane', 'Liz Watts', 'Lizzy Gardiner', 'Lloyd Phillips', 'Logan Miller', 'Lone Scherfig', 'Lorene Scafaria', 'Lorey Sebastian', 'Louis C.K.', 'Louis DiGiaimo', 'Louis Leterrier', 'Louis Morneau', 'Louis R. Loeffler', 'Louis Venosta', 'Lubo Hristov', 'Luc Besson', 'Luca Guadagnino', 'Luca Marco Paracels', 'Luciana Marinucci', 'Lucinda Syson', 'Lucky McKee', 'Lucy Bailey', 'Luis Arranz', 'Luis Bu√±uel', 'Luis Carballar', 'Luis Mandoki', 'Luke Greenfield', 'Lyle R. Wheeler', 'Lynda House', 'Lynn Shelton', 'Lynn Stalmaster', 'L√º Yue', 'M. Chandrakumar', 'M. David Mullen', 'M. Night Shyamalan', 'Mac Ahlberg', 'Mace Neufeld', 'Maeve Binchy', 'Maggie Carey', 'Maggie Gray', 'Majid Majidi', 'Maksim Voronkov', 'Malcolm D. Lee', 'Mali Finn', 'Mamoru Oshii', 'Mandie Fletcher', 'Maneesh Sharma', 'Mani Ratnam', 'Manny Siverio', 'Manos Hatzidakis', 'Mansoor Khan', 'Marc Forby', 'Marc Klein', 'Marc Rocco', 'Marc S. Fischer', 'Marci Liroff', 'Marco Beltrami', 'Marco Mak Chi-Sin', 'Marco Trentini', 'Marco Tullio Giordana', 'Marcus Miller', 'Margery Simkin', 'Maria Djurkovic', 'Mario Kassar', 'Mario Puzo', 'Mario Van Peebles', 'Marion Dougherty', 'Marisa Silver', 'Marius Balchunas', \"Mark 'Reg' Wrench\", 'Mark A. Mangini', 'Mark Becker', 'Mark Christopher', 'Mark Damon', 'Mark Dindal', 'Mark Goldblatt', 'Mark Helfrich', 'Mark Henley', 'Mark Holding', 'Mark Irwin', 'Mark Isham', 'Mark Johnson', 'Mark Kilian', 'Mark L. Lester', 'Mark Mothersbaugh', 'Mark Pellington', 'Mark Rucker', 'Mark Rydell', 'Mark Schwahn', 'Mark Steven Johnson', 'Mark W. Gray', 'Marlon Wayans', 'Marshall Brickman', 'Martha Coolidge', 'Marthand K Venkatesh', 'Martin Brest', 'Martin Campbell', 'Martin Koolhoven', 'Martin Lawrence', 'Martin Ritt', 'Martin Scorsese', 'Martin Todsharow', 'Mary Hidalgo', 'Mary Mapes', 'Mary McDonagh Murphy', 'Mary Selway', 'Mary Vernieu', 'Maryse Alberti', 'Mar√≠a Ripoll', 'Masao Maruyama', 'Mat Whitecross', 'Mathieu Kassovitz', 'Matthew Barry', 'Matthew Libatique', 'Matthew Robbins', 'Matthew Vaughn', 'Maurice Jarre', 'Maurice Pialat', 'Max Steiner', 'Mayne Berke', 'Meg Morman', 'Mel Brooks', 'Melissa Rauch', 'Menno Meyjes', 'Mervyn Warren', 'Michael Addis', 'Michael Anderson', 'Michael Andrews', 'Michael Apted', 'Michael Austin', 'Michael Barnathan', 'Michael Bay', 'Michael Blodgett', 'Michael Burke', 'Michael C. Butler', 'Michael Chambers', 'Michael Colleary', 'Michael Corrente', 'Michael Cristofer', 'Michael Curtiz', 'Michael D. Moore', 'Michael D. Sellers', 'Michael De Luca', 'Michael Deeley', 'Michael Dougherty', 'Michael Dowse', 'Michael Dudok de Wit', 'Michael Grais', 'Michael Haigney', 'Michael Hoffman', 'Michael Kahn', 'Michael Lamont', 'Michael Lehmann', 'Michael Mann', 'Michael Miller', 'Michael Palin', 'Michael Paseornek', 'Michael Polish', 'Michael Radford', 'Michael Ritchie', 'Michael Salomon', 'Michael Schultz', 'Michael Simmonds', 'Michael Stancyk', 'Michael Steinberg', 'Michael Tronick', 'Michael Weber', 'Michael Winterbottom', 'Michel Gondry', 'Michel Merkt', 'Michel Sch√∂pping', 'Mick Jackson', 'Mick Jagger', 'Mickey S. Michaels', 'Miguel Arteta', 'Mihalis Kakogiannis', 'Mike Clattenburg', 'Mike Fenton', 'Mike Figgis', 'Mike Flanagan', 'Mike Judge', 'Mike Leigh', 'Mike Newell', 'Mike Nichols', 'Mike Thurmeier', 'Mikl√≥s R√≥zsa', 'Mimi Leder', 'Mindy Marin', 'Mira Nair', 'Miranda Bailey', 'Mitsuhisa Ishikawa', 'Mohsen Makhmalbaf', 'Monika Mikkelsen', 'Morgan Spurlock', 'Mychael Danna', 'Myron I. Kerstein', 'M√©lanie Laurent', 'Nancy Haigh', 'Nancy Juvonen', 'Nancy Meyers', 'Nancy Nayor', 'Nancy Steiner', 'Nancy Stephens', 'Naomi Geraghty', 'Naomi Shohan', 'Naomi Watts', 'Natalie Portman', 'Natascha Wharton', 'Natsuki Imai', 'Neil Abramson', 'Neil Farrell', 'Neil LaBute', 'Nelson Shin', 'Nelson Yu Lik-wai', 'Nettie Wild', 'Newt Arnold', 'Nicholas Meyer', 'Nicholas Ray', 'Nick Cassavetes', 'Nick Castle', 'Nick Gomez', 'Nick Lathouris', 'Nick Moore', 'Nick Park', 'Nicky Kentish Barnes', 'Nicole Arbusto', 'Nicole Garcia', 'Nicole Kassell', 'Nicole Kidman', 'Nikita Mikhalkov', 'Nils Allen Stewart', 'Nina Gold', 'Nina Haun', 'Nino Rota', 'Nitesh Tiwari', 'Noah Baumbach', 'Nora Ephron', 'Norman Garwood', 'Norman Jewison', 'Nuri Bilge Ceylan', 'Olaf de Fleur Johannesson', 'Ole Schell', 'Oles Sanin', 'Olga Subbotina', 'Oliver Parker', 'Oliver Stone', 'Oliver Wood', 'Olivia Bloch-Lain√©', 'Olivier Assayas', 'Olivier Delbosc', 'Olivier Masset-Depasse', 'Oren Moverman', 'Oskar Roehler', 'P.J. Hogan', 'Pablo Larra√≠n', 'Paco Delgado', 'Paddy Breathnach', 'Pamela Abdy', 'Paolo Sorrentino', 'Park Chan-wook', 'Park Hoon-Jung', 'Pascal Caucheteux', 'Pascal Plisson', \"Pat O'Connor\", 'Patrick Hughes', 'Patrick J. Clifton', 'Patrick Read Johnson', 'Patti Podesta', 'Paul Andrew Williams', 'Paul Brooks', 'Paul Dehn', 'Paul Feig', 'Paul Greengrass', 'Paul Haggis', 'Paul Johansson', 'Paul Kewley', 'Paul King', 'Paul Maslansky', 'Paul Mazursky', 'Paul McGuigan', 'Paul Rich', 'Paul S. Mezey', 'Paul Schrader', 'Paul Stanley', 'Paul Thomas Anderson', 'Paul Verhoeven', 'Paul W.S. Anderson', 'Paul Walker', 'Paul Weitz', 'Pedro Almod√≥var', 'Peggy Holmes', 'Pembroke J. Herring', 'Pen Densham', 'Penelope Spheeris', 'Pep Armengol', 'Pernilla August', 'Peter A. Marshall', 'Peter Abrams', 'Peter Andrus', 'Peter Benchley', 'Peter Berg', 'Peter Best', 'Peter Filardi', 'Peter Grant', 'Peter Greene', 'Peter Hall', 'Peter Hedges', 'Peter Howitt', 'Peter Hyams', 'Peter Jackson', 'Peter Kohn', 'Peter Levy', 'Peter MacDonald', 'Peter Masterson', 'Peter Miller', 'Peter Mullan', 'Peter Robertson', 'Peter Segal', 'Peter Sollett', 'Peter Suschitzky', 'Peter Weir', 'Peter Yates', 'Peter Zinner', 'Phedon Papamichael', 'Phil Alden Robinson', 'Phil Traill', 'Philip Glass', 'Philip Ivey', 'Philip Kaufman', 'Philippe Lellouche', 'Philippe Rombi', 'Philippe Rousselot', 'Phillip Noyce', 'Phyllis Huffman', 'Pierce Brosnan', 'Pierre Befve', 'Pierre Boulle', 'Pierre Cor√©', 'Pieter Jan Brugge', 'Pino Donaggio', 'Pip Karmel', 'Plato Fountidakis', 'Prabhu Deva', 'Priscilla John', 'Priscilla Nedd-Friendly', 'Priyadarshan', 'Q. Allan Brocka', 'Quentin Tarantino', 'R.D. Robb', 'Rachel Portman', 'Radu Jude', 'Raffaella Delle Donne', 'Raja Gosnell', 'Rajkumar Santoshi', 'Rakeysh Omprakash Mehra', 'Ralph Bakshi', 'Ralph S. Singleton', 'Ralph Zondag', 'Ram Gopal Varma', 'Raman Hui', 'Ramsey Ann Naito', 'Ram√≥n Ob√≥n', 'Randal Kleiser', 'Randall Miller', 'Randall Wallace', 'Ray Lawrence', 'Raymond Lee Wai-Man', 'Raymond Poulton', 'Razvan Radulescu', 'Rebecca Miller', 'Reese Witherspoon', 'Reggie Rock Bythewood', 'Remi Adefarasin', 'Remi Tournois', 'Renata Litvinova', 'Renny Harlin', 'Rhett Reese', 'Rian Johnson', 'Ricardo Ferrer', 'Ricardo Garc√≠a Arrojo', 'Rich Correll', 'Rich Moore', 'Richard A. Colla', 'Richard Attenborough', 'Richard Ayoade', 'Richard Brooks', 'Richard Carruth', 'Richard Christian Matheson', 'Richard D. Zanuck', 'Richard Donner', 'Richard Fleischer', 'Richard H. Kline', 'Richard Halsey', 'Richard Kelly', 'Richard L. Anderson', 'Richard Linklater', 'Richard Marks', 'Richard Martin', 'Richard Price', 'Richard Ramsey', 'Richard Rich', 'Richard Taylor', 'Rick Alexander', 'Rick Barker', 'Rick Famuyiwa', 'Rick Heinrichs', 'Rick Montgomery', 'Rick Rosenthal', 'Ridley Scott', 'Rintaro', 'Rita Ryack', 'Rithy Panh', 'Roald Dahl', 'Rob Cohen', 'Rob Hedden', 'Rob Reiner', 'Rob Zombie', 'Robby M√ºller', 'Robert Alonzo', 'Robert Altman', 'Robert B. Weide', 'Robert Benton', 'Robert Bernstein', 'Robert Butler', 'Robert Cavallo', 'Robert Dalva', 'Robert De Niro', 'Robert Elswit', 'Robert F. Colesberry', 'Robert Garland', 'Robert Getchell', 'Robert Greenwald', 'Robert H. Solo', 'Robert Iscove', 'Robert Jones', 'Robert Leighton', 'Robert Lorenz', 'Robert Luketic', 'Robert Mark Kamen', 'Robert Moresco', 'Robert Mulligan', 'Robert Nelson Jacobs', 'Robert Patton-Spruill', 'Robert Redford', 'Robert Richardson', 'Robert Rodriguez', 'Robert Rossen', 'Robert Smigel', 'Robert Towne', 'Robert Townsend', 'Robert Watts', 'Robert Wise', 'Robert Zemeckis', 'Robin Wright', 'Rod Hardy', 'Rod Lurie', 'Rodney Ascher', 'Rodrigo Prieto', 'Roger Christian', 'Roger Corman', 'Roger Deakins', 'Roger Donaldson', 'Roger Marshall', 'Roger Michell', 'Roger Mussenden', 'Roger Pratt', 'Roger Spottiswoode', 'Rogier Stoffers', 'Rohit Shetty', 'Roland Emmerich', 'Roland Joff√©', 'Roland Pellegrino', 'Roman Karimov', 'Roman Polanski', 'Roman Vasyanov', 'Ron Casden', 'Ron Howard', 'Ron Oliver', 'Ron Shelton', 'Ron Underwood', 'Ron W. Miller', 'Ronna Kress', 'Ronnie Screwvala', 'Ronnie Yeskel', 'Ronny Yu', 'Roque Ba√±os', 'Ross Bagdasarian, Jr.', 'Roy London', 'Roy Webb', 'Ruben Fleischer', 'Rudolfo Anaya', 'Rupert Gregson-Williams', 'Russell Crowe', 'Russell Gewirtz', 'Ruth Morley', 'Ryan Gosling', 'Ryan Piers Williams', 'Ryoo Seung-wan', 'Ry√ªhei Kitamura', 'Sabu Cyril', 'Sadayuki Murai', 'Safy Nebbou', 'Saiwyn Qadras', 'Sajid Nadiadwala', 'Sakari Salli', 'Sally Menke', 'Sam Leavitt', 'Sam Liu', 'Sam Mendes', 'Sam Mercer', 'Sam Peckinpah', 'Sam Raimi', 'Sameer Arya', 'Sammo Hung', 'Samuel A. Taylor', 'Sandesh Shandilya', 'Sandy Powell', 'Sangyoon Lim', 'Sanja Milkovic Hays', 'Sanjay Leela Bhansali', 'Santi Amodeo', 'Santosh Sivan', 'Sarah Bradshaw', 'Sarah Finn', 'Sarah Green', 'Sarah Jessica Parker', 'Saran', 'Sarik Andreasyan', 'Satish Kaushik', 'Satyajit Ray', 'Saul Zaentz', 'Scott Lambert', 'Scott Martin Gershin', 'Scott McGehee', 'Scott Mosier', 'Scott Prendergast', 'Scott Rudin', 'Scott Silver', 'Scott Walker', 'Sean Bobbitt', 'Sean Connery', 'Sean Garrity', 'Sean Penn', 'Sean S. Cunningham', 'Sebastian Gutierrez', 'Sekhar Kammula', 'Sergei Bodrov', 'Sergei Glezin', 'Sergei Loban', 'Sergei M. Eisenstein', 'Sergey Mikhalchuk', 'Sergey Nikonenko', 'Shaheen Baig', 'Shakim Compere', 'Shane Black', 'Shane Carruth', 'Shane Jacobson', 'Shane Valentino', 'Sharmeen Obaid-Chinoy', 'Shawn Christensen', 'Shawn Levy', 'Shawn S. Ryder', 'Sheila Jaffe', 'Sheldon Kahn', 'Sheldon Lettich', 'Shelly Johnson', 'Shepherd Frankel', 'Shim Hyung-Rae', 'Shinji Aramaki', 'Shir√¥ Sagisu', 'Shoojit Sircar', 'Shusuke Kaneko', 'Siddique', 'Sidney Lumet', 'Sig De Miguel', 'Simon Fisher-Turner', 'Simon Klose', 'Simon Moore', 'Simon Moseley', 'Sonia Grande', 'Spalding Gray', 'Spike Jonze', 'Spike Lee', 'Stacy Peralta', 'Stan Dragoti', 'Stan Lee', 'Stanley Donen', 'Stanley Kubrick', 'Stanley Tong', 'Stefan Czapsky', 'Stefan Ruzowitzky', 'Stephan Blinn', 'Stephanie Gorin', 'Stephen Chow', 'Stephen Daldry', 'Stephen E. Rivkin', 'Stephen H. Burum', 'Stephen Herek', 'Stephen Hopkins', 'Stephen J. Roth', 'Stephen King', 'Stephen T. Kay', 'Stephen Vittoria', 'Stephen Warbeck', 'Stevan Filipoviƒá', 'Steve Brooksbank', 'Steve Carell', 'Steve Carr', 'Steve Carver', 'Steve Christian', 'Steve Coogan', 'Steve Cosens', 'Steve Daly', 'Steve Golin', 'Steve Jablonsky', 'Steve James', 'Steve Miner', 'Steve Oedekerk', 'Steve Pink', 'Steve Rash', 'Steve Richards', 'Steve Tisch', 'Steve Trenbirth', 'Steven Brill', 'Steven E. Gordon', 'Steven Knight', 'Steven Lisberger', 'Steven Quale', 'Steven R. Monroe', 'Steven Reuther', 'Steven Shainberg', 'Steven Soderbergh', 'Steven Spielberg', 'Steven Zaillian', 'Stewart Copeland', 'Stewart Raffill', 'Stig Frode Henriksen', 'Sting', 'Stuart Asbjornsen', 'Stuart Baird', 'Stuart Beattie', 'Stuart Gazzard', 'Stuart H. Papp√©', 'Stuart M. Besser', 'Stuart Urban', 'St√©phane Batut', 'St√©phane Rybojad', 'Subodh Bhave', 'Sujoy Ghosh', 'Suresh Balaje', 'Susan Lynch', 'Susannah Grant', 'Susanne Bier', 'Susie Figgis', 'Susumu Fukunaga', 'Suzanne Smith', 'Suzanne Todd', 'Svyatoslav Podgayevskiy', 'Sydney Pollack', 'Sylvester Stallone', 'Sylvie Landra', 'Tak Fujimoto', 'Takashi Miike', 'Takashi Yamazaki', 'Tamra Davis', 'Tariq Anwar', 'Tar√¥ Ohtani', 'Tate Taylor', 'Taylor Hackford', 'Ted Field', 'Ted Griffin', 'Ted Koland', 'Ted Kotcheff', 'Ted Moore', 'Ted Post', 'Teddy Chan', 'Teddy Robin Kwan', 'Temple Mathews', 'Terence Young', 'Tero Kaukomaa', 'Terrence Malick', 'Terri Taylor', 'Terry George', 'Terry Gilliam', 'Terry Liebling', 'Tessa Ross', 'Thelma Schoonmaker', 'Theodore Melfi', 'Theodore Shapiro', 'Thierry Arbogast', 'Thom Eberhardt', 'Thomas Carter', 'Thomas J. Wright', 'Thomas Lennon', 'Thomas M. Hammel', 'Thomas Newman', 'Thunder Levin', 'Tian Xiao Peng', 'Til Schweiger', 'Tim Bevan', 'Tim Blake Nelson', 'Tim Burton', 'Tim Hill', 'Tim Story', 'Tim Sullivan', 'Timmy Yip', 'Timothy A. Chey', 'Timothy Wayne Folsome', 'Timur Bekmambetov', 'Tinker Lindsay', 'Tobey Maguire', 'Tod Browning', 'Tod Williams', 'Todd Haynes', 'Todd M. Thaler', 'Todd McFarlane', 'Todd Phillips', 'Togan G√∂kbakar', 'Tom Cruise', 'Tom Gries', 'Tom Gustafson', 'Tom Hanks', 'Tom Holland', 'Tom Hulce', 'Tom Johnson', 'Tom Kalin', 'Tom Laughlin', 'Tom McArdle', 'Tom McCarthy', 'Tom McLoughlin', 'Tom Putnam', 'Tom Rosenberg', 'Tom Shadyac', 'Tom Stern', 'Tom Stoppard', 'Tommy Leung Ga-Shu', 'Tommy Wirkola', 'Tomoko Kida', 'Tony Cookson', 'Tony Kaye', 'Tony McNamara', 'Tony Pierce-Roberts', 'Tony Richardson', 'Tony Scott', 'Topher Grace', 'Torsten Breuer', 'Trevor Rabin', 'Trey Nelson', 'Troy Duffy', 'Tsui Hark', 'Tyler Perry', 'T√¥ya Sat√¥', 'Udayan Prasad', 'Uli Edel', 'Uwe Boll', 'Valerie McCaffrey', 'Valerio De Paolis', 'Valeriya Gay Germanika', 'Valery Todorovsky', 'Van Nest Polglase', 'Vera Storozheva', 'Vetrimaran', 'Vicky Funari', 'Victor J. Zolfo', 'Victor Kempster', 'Victor Nunez', 'Victoria Burrows', 'Victoria Thomas', 'Vin Diesel', 'Vincent Paterson', 'Vishal Bhardwaj', 'Vishnuvardhan', 'Vitaliano Trevisan', 'Vittorio Storaro', 'Vivek Agnihotri', 'Vladimir Toropchin', 'Vsevolod Plotkin', 'Wallace Wolodarsky', 'Walon Green', 'Walt Disney', 'Walter F. Parkes', 'Walter Hill', 'Walter Murch', 'Walter Salles', 'Wayne Kramer', 'Wayne Wahrman', 'Wendy Carlos', 'Wendy Finerman', 'Wendy Greene Bricmont', 'Wendy Partridge', 'Wes Anderson', 'Wes Craven', 'Wesley Ruggles', 'Whit Stillman', 'Wilbert Hirsch', 'Will Ferrell', 'Will Meugniot', 'Will Smith', 'Will Vinton', 'Willard Huyck', 'William A. Elliott', 'William Alland', 'William Arntz', 'William Beaudine', 'William Broyles Jr.', 'William Dear', 'William Friedkin', 'William Goldenberg', 'William Goldman', 'William H. Daniels', 'William Hoy', 'William Lustig', 'William Nigh', 'William Phelps', 'William S. Gilmore', 'William Shakespeare', 'William Shatner', 'William Steinkamp', 'William Wharton', 'William Wyler', 'Wilson Yip', 'Wim Wenders', 'Witold Stok', 'Wolfgang Petersen', 'Wolfgang Reitherman', 'Wong Jing', 'Wong Kar-wai', 'Woody Allen', 'Wouter Barendrecht', 'Wu Jing', 'Wyck Godfrey', 'Xavier Koller', 'Yann Demange', 'Yegor Konchalovsky', 'Yiu-Fai Lai', 'Yorgos Lanthimos', 'Yorick Le Saux', 'Youji Takeshige', 'Yuri Korotkov', 'Yuriy Kara', 'Yuriy Kutsenko', 'Yuriy Poteenko', 'Y√¥ji Yamada', 'Zac Stanford', 'Zacar√≠as M. de la Riva', 'Zach Braff', 'Zach Staenberg', 'Zachary Dehm', 'Zachary Woodlee', 'Zack Snyder', 'Zak Penn', 'Zalman King', 'Zana Briski', 'Zbigniew Preisner', 'Zeresenay Mehari', 'Zhang Yimou', 'Zhao Xiaoding', '–ú–æ—Ä—Ä–∏—Å –ß–µ—Å—Ç–Ω–∞—Ç', '√Ålex de la Iglesia', '√Ålvaro August√≠n', '√âmile Gaudreault']\n",
      "1976\n"
     ]
    }
   ],
   "source": [
    "all_crew = list_breakdown(train, 'crew')\n",
    "print(sorted(all_crew))\n",
    "print(len(all_crew))\n"
   ]
  },
  {
   "cell_type": "code",
   "execution_count": null,
   "metadata": {},
   "outputs": [],
   "source": []
  }
 ],
 "metadata": {
  "kernelspec": {
   "display_name": "Python 3",
   "language": "python",
   "name": "python3"
  },
  "language_info": {
   "codemirror_mode": {
    "name": "ipython",
    "version": 3
   },
   "file_extension": ".py",
   "mimetype": "text/x-python",
   "name": "python",
   "nbconvert_exporter": "python",
   "pygments_lexer": "ipython3",
   "version": "3.7.1"
  }
 },
 "nbformat": 4,
 "nbformat_minor": 2
}
